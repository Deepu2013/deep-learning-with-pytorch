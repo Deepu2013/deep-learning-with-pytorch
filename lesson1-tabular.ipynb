{
 "cells": [
  {
   "cell_type": "markdown",
   "metadata": {},
   "source": [
    "# Neural networks for tabular data"
   ]
  },
  {
   "cell_type": "code",
   "execution_count": 1,
   "metadata": {},
   "outputs": [],
   "source": [
    "%reload_ext autoreload\n",
    "%autoreload 2\n",
    "%matplotlib inline\n",
    "\n",
    "from sklearn.ensemble import RandomForestRegressor\n",
    "from sklearn.model_selection import train_test_split, RandomizedSearchCV, GridSearchCV\n",
    "\n",
    "from sklearn.preprocessing import StandardScaler\n",
    "from sklearn import metrics\n",
    "from tqdm.notebook import tqdm\n",
    "\n",
    "\n",
    "import matplotlib.pyplot as plt\n",
    "import seaborn as sb"
   ]
  },
  {
   "cell_type": "code",
   "execution_count": 2,
   "metadata": {},
   "outputs": [],
   "source": [
    "import pandas as pd\n",
    "import numpy as np\n",
    "import torch\n",
    "from pathlib import Path\n",
    "from torch.utils.data import Dataset, DataLoader\n",
    "import torch.optim as optim\n",
    "import torch.nn as nn\n",
    "import torch.nn.functional as F\n",
    "import random\n",
    "import math\n",
    "\n",
    "from pathlib import Path"
   ]
  },
  {
   "cell_type": "code",
   "execution_count": 3,
   "metadata": {},
   "outputs": [],
   "source": [
    "import xgboost as xgb\n",
    "from sklearn.metrics import r2_score"
   ]
  },
  {
   "cell_type": "markdown",
   "metadata": {},
   "source": [
    "## Regression dataset\n",
    "\n",
    "`pip install pmlb` <br>\n",
    "To install A Python wrapper for the Penn Machine Learning Benchmark data repository."
   ]
  },
  {
   "cell_type": "code",
   "execution_count": 4,
   "metadata": {},
   "outputs": [],
   "source": [
    "PATH = Path(\"/data2/yinterian/pmlb/\")"
   ]
  },
  {
   "cell_type": "code",
   "execution_count": 5,
   "metadata": {},
   "outputs": [],
   "source": [
    "from pmlb import fetch_data, regression_dataset_names"
   ]
  },
  {
   "cell_type": "code",
   "execution_count": 6,
   "metadata": {},
   "outputs": [],
   "source": [
    "# filtering datasets with enough data\n",
    "list_dataset = {}\n",
    "\n",
    "for dataset in regression_dataset_names:\n",
    "    X, y = fetch_data(dataset, return_X_y=True, local_cache_dir='/data2/yinterian/pmlb/')\n",
    "    if X.shape[0] >= 5000:\n",
    "        list_dataset[dataset] = (X.shape[0],X.shape[1]) "
   ]
  },
  {
   "cell_type": "code",
   "execution_count": 7,
   "metadata": {},
   "outputs": [
    {
     "data": {
      "text/plain": [
       "{'1191_BNG_pbc': (1000000, 18),\n",
       " '1193_BNG_lowbwt': (31104, 9),\n",
       " '1196_BNG_pharynx': (1000000, 10),\n",
       " '1199_BNG_echoMonths': (17496, 9),\n",
       " '1201_BNG_breastTumor': (116640, 9),\n",
       " '1203_BNG_pwLinear': (177147, 10),\n",
       " '1595_poker': (1025010, 10),\n",
       " '197_cpu_act': (8192, 21),\n",
       " '201_pol': (15000, 48),\n",
       " '215_2dplanes': (40768, 10),\n",
       " '218_house_8L': (22784, 8),\n",
       " '225_puma8NH': (8192, 8),\n",
       " '227_cpu_small': (8192, 12),\n",
       " '294_satellite_image': (6435, 36),\n",
       " '344_mv': (40768, 10),\n",
       " '503_wind': (6574, 14),\n",
       " '537_houses': (20640, 8),\n",
       " '562_cpu_small': (8192, 12),\n",
       " '564_fried': (40768, 10),\n",
       " '573_cpu_act': (8192, 21),\n",
       " '574_house_16H': (22784, 16)}"
      ]
     },
     "execution_count": 7,
     "metadata": {},
     "output_type": "execute_result"
    }
   ],
   "source": [
    "list_dataset"
   ]
  },
  {
   "cell_type": "code",
   "execution_count": 8,
   "metadata": {},
   "outputs": [],
   "source": [
    "datasets = list(list_dataset.keys())"
   ]
  },
  {
   "cell_type": "code",
   "execution_count": 9,
   "metadata": {},
   "outputs": [
    {
     "data": {
      "text/plain": [
       "'1193_BNG_lowbwt'"
      ]
     },
     "execution_count": 9,
     "metadata": {},
     "output_type": "execute_result"
    }
   ],
   "source": [
    "dataset = datasets[1]\n",
    "dataset"
   ]
  },
  {
   "cell_type": "markdown",
   "metadata": {},
   "source": [
    "## Split train / valid / test"
   ]
  },
  {
   "cell_type": "code",
   "execution_count": 10,
   "metadata": {},
   "outputs": [],
   "source": [
    "def split_dataset(dataset, seed=1):\n",
    "    X, y = fetch_data(dataset, return_X_y=True, local_cache_dir='/data2/yinterian/pmlb/')\n",
    "    train_X, test_X, train_y, test_y = train_test_split(X, y, test_size=0.3, random_state=seed)\n",
    "    valid_X, test_X, valid_y, test_y = train_test_split(test_X, test_y, test_size=0.5, random_state=seed)\n",
    "    return train_X, valid_X, test_X, train_y, valid_y, test_y"
   ]
  },
  {
   "cell_type": "code",
   "execution_count": 11,
   "metadata": {},
   "outputs": [],
   "source": [
    "train_X, valid_X, test_X, train_y, valid_y, test_y = split_dataset(dataset)"
   ]
  },
  {
   "cell_type": "markdown",
   "metadata": {},
   "source": [
    "## Baseline Random Forest scores "
   ]
  },
  {
   "cell_type": "code",
   "execution_count": 12,
   "metadata": {},
   "outputs": [],
   "source": [
    "def RF_scores(train_X, valid_X, train_y, valid_y):\n",
    "    \n",
    "    D = train_X.shape[1]\n",
    "    max_features = np.unique([int(x*D + 1) for x in np.linspace(0.01, 0.99, num = 5)])\n",
    "    grid = {'max_features': max_features}\n",
    "    rf = RandomForestRegressor(n_estimators=1000, max_features='sqrt', n_jobs = 10)\n",
    "    rf_cv = GridSearchCV(estimator = rf, param_grid = grid, cv = 5, verbose=2,\n",
    "                         n_jobs = 5)\n",
    "    \n",
    "    rf_cv.fit(train_X, train_y)\n",
    "    return rf_cv.score(valid_X, valid_y)"
   ]
  },
  {
   "cell_type": "code",
   "execution_count": 19,
   "metadata": {},
   "outputs": [
    {
     "name": "stdout",
     "output_type": "stream",
     "text": [
      "Fitting 5 folds for each of 5 candidates, totalling 25 fits\n"
     ]
    },
    {
     "name": "stderr",
     "output_type": "stream",
     "text": [
      "[Parallel(n_jobs=5)]: Using backend LokyBackend with 5 concurrent workers.\n",
      "[Parallel(n_jobs=5)]: Done  25 out of  25 | elapsed:   38.7s finished\n"
     ]
    },
    {
     "data": {
      "text/plain": [
       "0.5717712590938855"
      ]
     },
     "execution_count": 19,
     "metadata": {},
     "output_type": "execute_result"
    }
   ],
   "source": [
    "# baseline RF score\n",
    "# takes a few minutes\n",
    "RF_scores(train_X, valid_X, train_y, valid_y)"
   ]
  },
  {
   "cell_type": "markdown",
   "metadata": {},
   "source": [
    "## Baseline Gradient boosting scores"
   ]
  },
  {
   "cell_type": "code",
   "execution_count": 15,
   "metadata": {},
   "outputs": [],
   "source": [
    "def GB_scores(train_X, valid_X, train_y, valid_y):\n",
    "    xgb_pars = {'min_child_weight': 50, 'eta': 0.01, 'colsample_bytree': 0.5, 'max_depth': 5,\n",
    "            'subsample': 0.8, 'lambda': 1., 'nthread': -1, 'booster' : 'gbtree', 'silent': 1,\n",
    "            'eval_metric': 'rmse', 'objective': 'reg:linear'}\n",
    "    dtrain = xgb.DMatrix(train_X, label=train_y)\n",
    "    dvalid = xgb.DMatrix(valid_X, label=valid_y)\n",
    "    watchlist = [(dtrain, 'train'), (dvalid, 'valid')]\n",
    "    gbm = xgb.train(xgb_pars, dtrain, 1000, watchlist, early_stopping_rounds=50,\n",
    "                maximize=False, verbose_eval=200)\n",
    "    y_pred = gbm.predict(dvalid)\n",
    "    return r2_score(valid_y, y_pred), gbm"
   ]
  },
  {
   "cell_type": "code",
   "execution_count": 16,
   "metadata": {},
   "outputs": [
    {
     "name": "stdout",
     "output_type": "stream",
     "text": [
      "[0]\ttrain-rmse:2999.54\tvalid-rmse:2996.34\n",
      "Multiple eval metrics have been passed: 'valid-rmse' will be used for early stopping.\n",
      "\n",
      "Will train until valid-rmse hasn't improved in 50 rounds.\n",
      "[200]\ttrain-rmse:629.823\tvalid-rmse:622.885\n",
      "[400]\ttrain-rmse:457.03\tvalid-rmse:455.256\n",
      "[600]\ttrain-rmse:444.531\tvalid-rmse:446.518\n",
      "[800]\ttrain-rmse:440.616\tvalid-rmse:445.047\n",
      "[999]\ttrain-rmse:438.3\tvalid-rmse:444.328\n"
     ]
    }
   ],
   "source": [
    "score, gbm = GB_scores(train_X, valid_X, train_y, valid_y)"
   ]
  },
  {
   "cell_type": "code",
   "execution_count": 17,
   "metadata": {},
   "outputs": [
    {
     "data": {
      "text/plain": [
       "0.6119301881470227"
      ]
     },
     "execution_count": 17,
     "metadata": {},
     "output_type": "execute_result"
    }
   ],
   "source": [
    "score"
   ]
  },
  {
   "cell_type": "code",
   "execution_count": 18,
   "metadata": {},
   "outputs": [
    {
     "data": {
      "text/plain": [
       "<matplotlib.axes._subplots.AxesSubplot at 0x7fb9ff487410>"
      ]
     },
     "execution_count": 18,
     "metadata": {},
     "output_type": "execute_result"
    },
    {
     "data": {
      "image/png": "[encoded data removed]",
      "text/plain": [
       "<Figure size 432x288 with 1 Axes>"
      ]
     },
     "metadata": {
      "needs_background": "light"
     },
     "output_type": "display_data"
    }
   ],
   "source": [
    "xgb.plot_importance(gbm)"
   ]
  },
  {
   "cell_type": "markdown",
   "metadata": {},
   "source": [
    "## Encoding features"
   ]
  },
  {
   "cell_type": "code",
   "execution_count": 19,
   "metadata": {},
   "outputs": [],
   "source": [
    "def encode_cat_variables(x, help_dict = None, N = 100):\n",
    "    \"\"\"Encodes a categorical variable\n",
    "    \n",
    "    The index 0 is left for values not in training\n",
    "    \"\"\"\n",
    "    uniqs = np.unique(x)\n",
    "    if help_dict is None: help_dict = {v:k+1 for k, v in enumerate(uniqs)}\n",
    "    levels = len(help_dict.keys()) + 1\n",
    "    x_t = np.array([help_dict.get(x_i, 0) for x_i in x])\n",
    "    return x_t, help_dict, levels"
   ]
  },
  {
   "cell_type": "code",
   "execution_count": 20,
   "metadata": {},
   "outputs": [],
   "source": [
    "def split_num_cat_columns(X):\n",
    "    \"\"\"Splits variables into: categorical and numeric\n",
    "    \n",
    "    Heuristic to determine which variable is categorical.\n",
    "    Returns:\n",
    "       cat_ind: array of indices for categorical variables\n",
    "       cont_ind: array of indices for continous variables\n",
    "    \"\"\"\n",
    "    cat_ind = []\n",
    "    cont_ind = []\n",
    "    for i in range(X.shape[1]):\n",
    "        uniqs_len = len(np.unique(X[:,i]))\n",
    "        fraction = uniqs_len/X.shape[0]\n",
    "        if uniqs_len == 2 or fraction > 0.01: # you can change this rule\n",
    "            cont_ind.append(i)\n",
    "        else:\n",
    "            cat_ind.append(i)\n",
    "    return cat_ind, cont_ind   "
   ]
  },
  {
   "cell_type": "code",
   "execution_count": 21,
   "metadata": {},
   "outputs": [],
   "source": [
    "def transform_dataset(train_X, valid_X, test_X):\n",
    "    \n",
    "    cat_ind, cont_ind = split_num_cat_columns(train_X)\n",
    "    \n",
    "    train_X_cat = train_X[:, cat_ind]\n",
    "    train_X_cont = train_X[:, cont_ind]\n",
    "    \n",
    "    valid_X_cat = valid_X[:, cat_ind]\n",
    "    valid_X_cont = valid_X[:, cont_ind]\n",
    "    \n",
    "    test_X_cat = test_X[:, cat_ind]\n",
    "    test_X_cont = test_X[:, cont_ind]\n",
    "    \n",
    "    scaler = StandardScaler()\n",
    "    train_X_cont = scaler.fit_transform(train_X_cont)\n",
    "    valid_X_cont = scaler.transform(valid_X_cont)\n",
    "    test_X_cont = scaler.transform(test_X_cont)\n",
    "    \n",
    "    level_arr = [0]*train_X_cat.shape[1]\n",
    "    for i in range(train_X_cat.shape[1]):\n",
    "        x, help_arr, levels = encode_cat_variables(train_X_cat[:,i])\n",
    "        train_X_cat[:,i] = x\n",
    "        level_arr[i] = levels\n",
    "        x, _, _ = encode_cat_variables(valid_X_cat[:,i], help_arr)\n",
    "        valid_X_cat[:,i] = x\n",
    "        x, _, _ = encode_cat_variables(test_X_cat[:,i], help_arr)\n",
    "        test_X_cat[:,i] = x\n",
    "    return (train_X_cat, train_X_cont, valid_X_cat, valid_X_cont, test_X_cat, test_X_cont), level_arr"
   ]
  },
  {
   "cell_type": "markdown",
   "metadata": {},
   "source": [
    "## Dataset and dataloader"
   ]
  },
  {
   "cell_type": "code",
   "execution_count": 22,
   "metadata": {},
   "outputs": [
    {
     "data": {
      "text/plain": [
       "'1193_BNG_lowbwt'"
      ]
     },
     "execution_count": 22,
     "metadata": {},
     "output_type": "execute_result"
    }
   ],
   "source": [
    "dataset"
   ]
  },
  {
   "cell_type": "code",
   "execution_count": 23,
   "metadata": {},
   "outputs": [],
   "source": [
    "train_X, valid_X, test_X, train_y, valid_y, test_y = split_dataset(dataset)"
   ]
  },
  {
   "cell_type": "code",
   "execution_count": 24,
   "metadata": {},
   "outputs": [
    {
     "data": {
      "text/plain": [
       "([3, 5, 8], [0, 1, 2, 4, 6, 7])"
      ]
     },
     "execution_count": 24,
     "metadata": {},
     "output_type": "execute_result"
    }
   ],
   "source": [
    "# split between categorical and continous variables\n",
    "cat_ind, cont_ind  = split_num_cat_columns(train_X)\n",
    "cat_ind, cont_ind"
   ]
  },
  {
   "cell_type": "code",
   "execution_count": 25,
   "metadata": {},
   "outputs": [],
   "source": [
    "# transforms variables\n",
    "(train_X_cat, train_X_cont, valid_X_cat, valid_X_cont, test_X_cat, test_X_cont), level_arr \\\n",
    "= transform_dataset(train_X, valid_X, test_X)"
   ]
  },
  {
   "cell_type": "code",
   "execution_count": 26,
   "metadata": {},
   "outputs": [
    {
     "data": {
      "text/plain": [
       "[4, 5, 7]"
      ]
     },
     "execution_count": 26,
     "metadata": {},
     "output_type": "execute_result"
    }
   ],
   "source": [
    "# here are the number of unique values of every categorical variable\n",
    "level_arr"
   ]
  },
  {
   "cell_type": "code",
   "execution_count": null,
   "metadata": {},
   "outputs": [],
   "source": [
    "class TabularDataSet(Dataset):\n",
    "    def __init__(self, X_cat, X_cont, Y):\n",
    "        self.X_cat = X_cat\n",
    "        self.X_cont = X_cont\n",
    "        self.Y = Y\n",
    "\n",
    "    def __getitem__(self, index):\n",
    "        return self.X_cat[index], self.X_cont[index], self.Y[index]\n",
    "\n",
    "    def __len__(self):\n",
    "        return len(self.Y)"
   ]
  },
  {
   "cell_type": "code",
   "execution_count": 42,
   "metadata": {},
   "outputs": [],
   "source": [
    "batch_size = 5\n",
    "train_ds = TabularDataSet(train_X_cat, train_X_cont, train_y)\n",
    "valid_ds = TabularDataSet(valid_X_cat, valid_X_cont, valid_y)\n",
    "test_ds = TabularDataSet(test_X_cat, test_X_cont, valid_y)\n",
    "\n",
    "train_dl = DataLoader(train_ds, batch_size=batch_size, shuffle=True)\n",
    "valid_dl = DataLoader(valid_ds, batch_size=batch_size)\n",
    "test_dl = DataLoader(test_ds, batch_size=batch_size)"
   ]
  },
  {
   "cell_type": "code",
   "execution_count": 43,
   "metadata": {},
   "outputs": [],
   "source": [
    "x1, x2, y = next(iter(train_dl))"
   ]
  },
  {
   "cell_type": "code",
   "execution_count": 44,
   "metadata": {},
   "outputs": [
    {
     "data": {
      "text/plain": [
       "tensor([[1., 2., 1.],\n",
       "        [3., 1., 1.],\n",
       "        [3., 1., 4.],\n",
       "        [3., 1., 4.],\n",
       "        [3., 1., 3.]], dtype=torch.float64)"
      ]
     },
     "execution_count": 44,
     "metadata": {},
     "output_type": "execute_result"
    }
   ],
   "source": [
    "x1"
   ]
  },
  {
   "cell_type": "code",
   "execution_count": 45,
   "metadata": {},
   "outputs": [
    {
     "data": {
      "text/plain": [
       "tensor([[ 1.4856, -1.0958, -0.0276, -0.8243, -0.2766, -2.2931],\n",
       "        [ 1.4856,  0.2633, -1.5297,  1.2132, -0.2766,  0.4361],\n",
       "        [ 1.4856,  0.1341,  0.1412,  1.2132,  3.6158,  0.4361],\n",
       "        [-0.6731,  0.8056, -0.5703,  1.2132, -0.2766,  0.4361],\n",
       "        [-0.6731, -0.6626,  2.8158,  1.2132, -0.2766, -2.2931]],\n",
       "       dtype=torch.float64)"
      ]
     },
     "execution_count": 45,
     "metadata": {},
     "output_type": "execute_result"
    }
   ],
   "source": [
    "x2"
   ]
  },
  {
   "cell_type": "markdown",
   "metadata": {},
   "source": [
    "## Training functions"
   ]
  },
  {
   "cell_type": "code",
   "execution_count": 46,
   "metadata": {},
   "outputs": [],
   "source": [
    "def save_model(m, p): torch.save(m.state_dict(), p)\n",
    "    \n",
    "def load_model(m, p): m.load_state_dict(torch.load(p))"
   ]
  },
  {
   "cell_type": "code",
   "execution_count": 47,
   "metadata": {},
   "outputs": [],
   "source": [
    "def cosine_segment(start_lr, end_lr, iterations):\n",
    "    i = np.arange(iterations)\n",
    "    c_i = 1 + np.cos(i*np.pi/iterations)\n",
    "    return end_lr + (start_lr - end_lr)/2 *c_i\n",
    "\n",
    "def get_cosine_triangular_lr(max_lr, iterations, div_start=5, div_end=5):\n",
    "    min_start, min_end = max_lr/div_start, max_lr/div_end\n",
    "    iter1 = int(0.3*iterations)\n",
    "    iter2 = iterations - iter1\n",
    "    segs = [cosine_segment(min_start, max_lr, iter1), cosine_segment(max_lr, min_end, iter2)]\n",
    "    return np.concatenate(segs)"
   ]
  },
  {
   "cell_type": "code",
   "execution_count": 48,
   "metadata": {},
   "outputs": [
    {
     "data": {
      "image/png": "[encoded data removed]",
      "text/plain": [
       "<Figure size 432x288 with 1 Axes>"
      ]
     },
     "metadata": {
      "needs_background": "light"
     },
     "output_type": "display_data"
    }
   ],
   "source": [
    "N = 100000\n",
    "lr = get_cosine_triangular_lr(0.01, N)\n",
    "plt.plot(list(range(N)), lr)\n",
    "plt.show()"
   ]
  },
  {
   "cell_type": "code",
   "execution_count": 49,
   "metadata": {},
   "outputs": [],
   "source": [
    "def update_optimizer(optimizer, lr):\n",
    "    for i, param_group in enumerate(optimizer.param_groups):\n",
    "        param_group[\"lr\"] = lr"
   ]
  },
  {
   "cell_type": "code",
   "execution_count": 50,
   "metadata": {},
   "outputs": [],
   "source": [
    "def val_metrics(model, valid_dl):\n",
    "    model.eval()\n",
    "    total = 0\n",
    "    sum_loss = 0\n",
    "    y_hat = []\n",
    "    ys = []\n",
    "    for x1, x2, y in valid_dl:\n",
    "        batch = y.shape[0]\n",
    "        y = y.unsqueeze(1).float()\n",
    "        out = model(x1.long().cuda(), x2.float().cuda())\n",
    "        loss = F.mse_loss(out, y.cuda())\n",
    "        sum_loss += batch*(loss.item())\n",
    "        total += batch\n",
    "        y_hat.append(out.detach().cpu().numpy())\n",
    "        ys.append(y)\n",
    "    \n",
    "    y_hat = np.vstack(y_hat)\n",
    "    ys = np.vstack(ys)\n",
    "    r2 = metrics.r2_score(ys, y_hat)\n",
    "    return sum_loss/total, r2"
   ]
  },
  {
   "cell_type": "code",
   "execution_count": 51,
   "metadata": {},
   "outputs": [],
   "source": [
    "def train_model(model, train_dl, valid_dl, optimizer, max_lr=0.05, epochs=100):\n",
    "    iterations = epochs*len(train_dl)\n",
    "    pbar = tqdm(total=iterations)\n",
    "    idx = 0\n",
    "    best_val_r2 = 0\n",
    "    lrs = get_cosine_triangular_lr(max_lr, iterations)\n",
    "    for t in range(epochs):\n",
    "        model.train()\n",
    "        total_loss = 0\n",
    "        total = 0\n",
    "        for x1, x2, y in train_dl:\n",
    "            update_optimizer(optimizer, lrs[idx])\n",
    "            x1 = x1.cuda().long()\n",
    "            x2 = x2.cuda().float()\n",
    "            y = y.unsqueeze(1).cuda().float()\n",
    "            y_hat = model(x1, x2)\n",
    "            loss = F.mse_loss(y_hat, y)\n",
    "            optimizer.zero_grad()\n",
    "            loss.backward()\n",
    "            optimizer.step()\n",
    "            total_loss += loss.item()*y.size(0)\n",
    "            total += y.size(0)\n",
    "            idx +=1\n",
    "            pbar.update()\n",
    "        val_loss, val_r2 = val_metrics(model, valid_dl)\n",
    "        print(\"\\tTrain loss: {:.3f} \\t Valid loss: {:.3f} \\t Valid R2:  {:.3f}\".format(\n",
    "            total_loss/total, val_loss, val_r2))  \n",
    "        if best_val_r2 < val_r2:\n",
    "            best_val_r2 = val_r2\n",
    "            path = \"{0}/models/model_{1}_acc_{2:.0f}.pth\".format(PATH, dataset, 100*val_r2) \n",
    "            save_model(model, path)\n",
    "            print(path)\n",
    "            \n",
    "    print(\"Best valid r2: {:.3f}\".format(best_val_r2))\n",
    "    return best_val_r2"
   ]
  },
  {
   "cell_type": "markdown",
   "metadata": {},
   "source": [
    "## Neural network model "
   ]
  },
  {
   "cell_type": "code",
   "execution_count": 52,
   "metadata": {},
   "outputs": [],
   "source": [
    "class TabularNet(nn.Module):\n",
    "    def __init__(self, num_cont, num_cat, level_arr, hidden_dim=50):\n",
    "        super(TabularNet, self).__init__()\n",
    "        in_dim = num_cont + 2*num_cat\n",
    "        self.embs = nn.ModuleList([nn.Embedding(level_arr[i], 2) for i in range(len(level_arr))])\n",
    "        self.bn = nn.BatchNorm1d(hidden_dim)\n",
    "        self.linear1 = nn.Linear(in_dim, hidden_dim)\n",
    "        self.linear2 = nn.Linear(hidden_dim, 1)\n",
    "        self.dropout = nn.Dropout(0.2)\n",
    "                                  \n",
    "    def forward(self, x_cat, x_cont):\n",
    "        x_cat = [self.embs[i](x_cat[:,i]) for i in range(x_cat.size(1))]\n",
    "        x_cat = torch.cat(x_cat, dim=1)\n",
    "        x_cat = self.dropout(x_cat)\n",
    "        x = torch.cat([ x_cont, x_cat], dim=1)\n",
    "        x = self.bn(F.relu(self.linear1(x)))\n",
    "        return self.linear2(x)"
   ]
  },
  {
   "cell_type": "code",
   "execution_count": 61,
   "metadata": {},
   "outputs": [],
   "source": [
    "class TabularNet(nn.Module):\n",
    "    def __init__(self, num_cont, num_cat, level_arr, hidden_dim=1000, hidden_dim2=1000):\n",
    "        super(TabularNet, self).__init__()\n",
    "        in_dim = num_cont + 2*num_cat\n",
    "        self.embs = nn.ModuleList([nn.Embedding(level_arr[i], 2) for i in range(len(level_arr))])\n",
    "        self.bn1 = nn.BatchNorm1d(hidden_dim)\n",
    "        self.bn2 = nn.BatchNorm1d(hidden_dim2)\n",
    "        self.linear1 = nn.Linear(in_dim, hidden_dim)\n",
    "        self.linear2 = nn.Linear(hidden_dim, hidden_dim2)\n",
    "        self.linear3 = nn.Linear(hidden_dim2, 1)\n",
    "        self.dropout = nn.Dropout(0.2)\n",
    "                                  \n",
    "    def forward(self, x_cat, x_cont):\n",
    "        x_cat = [self.embs[i](x_cat[:,i]) for i in range(x_cat.size(1))]\n",
    "        x_cat = torch.cat(x_cat, dim=1)\n",
    "        x_cat = self.dropout(x_cat)\n",
    "        x = torch.cat([x_cont, x_cat], dim=1)\n",
    "        x = self.bn1(F.relu(self.linear1(x)))\n",
    "        x = self.dropout(x)\n",
    "        x = self.bn2(F.relu(self.linear2(x)))\n",
    "        return self.linear3(x)"
   ]
  },
  {
   "cell_type": "markdown",
   "metadata": {},
   "source": [
    "## Training model"
   ]
  },
  {
   "cell_type": "code",
   "execution_count": 62,
   "metadata": {},
   "outputs": [],
   "source": [
    "batch_size = 100000\n",
    "\n",
    "num_cont = train_X_cont.shape[1]\n",
    "num_cat = train_X_cat.shape[1]\n",
    "\n",
    "train_dl = DataLoader(train_ds, batch_size=batch_size, shuffle=True)\n",
    "valid_dl = DataLoader(valid_ds, batch_size=batch_size)"
   ]
  },
  {
   "cell_type": "code",
   "execution_count": 66,
   "metadata": {},
   "outputs": [],
   "source": [
    "model = TabularNet(num_cont, num_cat, level_arr).cuda()"
   ]
  },
  {
   "cell_type": "code",
   "execution_count": 67,
   "metadata": {},
   "outputs": [
    {
     "data": {
      "application/vnd.jupyter.widget-view+json": {
       "model_id": "f7d4ece980b6409194412aa43bb5d18d",
       "version_major": 2,
       "version_minor": 0
      },
      "text/plain": [
       "HBox(children=(FloatProgress(value=0.0), HTML(value='')))"
      ]
     },
     "metadata": {},
     "output_type": "display_data"
    },
    {
     "name": "stdout",
     "output_type": "stream",
     "text": [
      "\tTrain loss: 9177997.000 \t Valid loss: 9154457.000 \t Valid R2:  -16.994\n",
      "\tTrain loss: 9163736.000 \t Valid loss: 9148991.000 \t Valid R2:  -16.984\n",
      "\tTrain loss: 9153421.000 \t Valid loss: 9128220.000 \t Valid R2:  -16.943\n",
      "\tTrain loss: 9141191.000 \t Valid loss: 9094178.000 \t Valid R2:  -16.876\n",
      "\tTrain loss: 9126398.000 \t Valid loss: 9038165.000 \t Valid R2:  -16.766\n",
      "\tTrain loss: 9108826.000 \t Valid loss: 8945214.000 \t Valid R2:  -16.583\n",
      "\tTrain loss: 9087690.000 \t Valid loss: 8852170.000 \t Valid R2:  -16.400\n",
      "\tTrain loss: 9062515.000 \t Valid loss: 8741953.000 \t Valid R2:  -16.183\n",
      "\tTrain loss: 9032220.000 \t Valid loss: 8634086.000 \t Valid R2:  -15.971\n",
      "\tTrain loss: 8995769.000 \t Valid loss: 8533773.000 \t Valid R2:  -15.774\n",
      "\tTrain loss: 8951964.000 \t Valid loss: 8342532.000 \t Valid R2:  -15.398\n",
      "\tTrain loss: 8899377.000 \t Valid loss: 8172606.500 \t Valid R2:  -15.064\n",
      "\tTrain loss: 8836225.000 \t Valid loss: 8056035.000 \t Valid R2:  -14.835\n",
      "\tTrain loss: 8761352.000 \t Valid loss: 7873381.000 \t Valid R2:  -14.476\n",
      "\tTrain loss: 8672729.000 \t Valid loss: 7652492.000 \t Valid R2:  -14.042\n",
      "\tTrain loss: 8568158.000 \t Valid loss: 7466244.000 \t Valid R2:  -13.676\n",
      "\tTrain loss: 8447043.000 \t Valid loss: 7322728.000 \t Valid R2:  -13.394\n",
      "\tTrain loss: 8307287.500 \t Valid loss: 7053618.500 \t Valid R2:  -12.865\n",
      "\tTrain loss: 8147613.000 \t Valid loss: 6952203.000 \t Valid R2:  -12.665\n",
      "\tTrain loss: 7967509.000 \t Valid loss: 6911040.500 \t Valid R2:  -12.585\n",
      "\tTrain loss: 7766468.000 \t Valid loss: 6788578.000 \t Valid R2:  -12.344\n",
      "\tTrain loss: 7544725.000 \t Valid loss: 6713460.500 \t Valid R2:  -12.196\n",
      "\tTrain loss: 7300151.000 \t Valid loss: 6747507.000 \t Valid R2:  -12.263\n",
      "\tTrain loss: 7031853.000 \t Valid loss: 6538637.000 \t Valid R2:  -11.853\n",
      "\tTrain loss: 6735830.000 \t Valid loss: 6454388.500 \t Valid R2:  -11.687\n",
      "\tTrain loss: 6403336.000 \t Valid loss: 6009157.000 \t Valid R2:  -10.812\n",
      "\tTrain loss: 6023537.000 \t Valid loss: 5398466.000 \t Valid R2:  -9.611\n",
      "\tTrain loss: 5581212.500 \t Valid loss: 5506304.000 \t Valid R2:  -9.823\n",
      "\tTrain loss: 5092089.000 \t Valid loss: 5241317.500 \t Valid R2:  -9.303\n",
      "\tTrain loss: 4583145.000 \t Valid loss: 4915343.500 \t Valid R2:  -8.662\n",
      "\tTrain loss: 4088558.250 \t Valid loss: 4637471.000 \t Valid R2:  -8.116\n",
      "\tTrain loss: 3601256.750 \t Valid loss: 4253196.500 \t Valid R2:  -7.360\n",
      "\tTrain loss: 3111616.250 \t Valid loss: 3811383.750 \t Valid R2:  -6.492\n",
      "\tTrain loss: 2632288.250 \t Valid loss: 3379225.500 \t Valid R2:  -5.642\n",
      "\tTrain loss: 2172626.500 \t Valid loss: 2898556.000 \t Valid R2:  -4.698\n",
      "\tTrain loss: 1746030.750 \t Valid loss: 2365331.000 \t Valid R2:  -3.649\n",
      "\tTrain loss: 1357848.125 \t Valid loss: 1854090.875 \t Valid R2:  -2.644\n",
      "\tTrain loss: 1016365.688 \t Valid loss: 1403567.500 \t Valid R2:  -1.759\n",
      "\tTrain loss: 730040.688 \t Valid loss: 1034721.062 \t Valid R2:  -1.034\n",
      "\tTrain loss: 503937.062 \t Valid loss: 738377.250 \t Valid R2:  -0.451\n",
      "\tTrain loss: 342668.375 \t Valid loss: 515709.906 \t Valid R2:  -0.014\n",
      "\tTrain loss: 245989.141 \t Valid loss: 371029.250 \t Valid R2:  0.271\n",
      "/data2/yinterian/pmlb/models/model_1193_BNG_lowbwt_acc_27.pth\n",
      "\tTrain loss: 210015.469 \t Valid loss: 296526.312 \t Valid R2:  0.417\n",
      "/data2/yinterian/pmlb/models/model_1193_BNG_lowbwt_acc_42.pth\n",
      "\tTrain loss: 224242.922 \t Valid loss: 285439.781 \t Valid R2:  0.439\n",
      "/data2/yinterian/pmlb/models/model_1193_BNG_lowbwt_acc_44.pth\n",
      "\tTrain loss: 276170.688 \t Valid loss: 319873.469 \t Valid R2:  0.371\n",
      "\tTrain loss: 352776.875 \t Valid loss: 381291.531 \t Valid R2:  0.251\n",
      "\tTrain loss: 436306.406 \t Valid loss: 444829.688 \t Valid R2:  0.126\n",
      "\tTrain loss: 513950.625 \t Valid loss: 498792.281 \t Valid R2:  0.020\n",
      "\tTrain loss: 575636.500 \t Valid loss: 536185.438 \t Valid R2:  -0.054\n",
      "\tTrain loss: 612580.938 \t Valid loss: 561517.188 \t Valid R2:  -0.104\n",
      "\tTrain loss: 624018.250 \t Valid loss: 570633.750 \t Valid R2:  -0.122\n",
      "\tTrain loss: 612030.875 \t Valid loss: 559002.188 \t Valid R2:  -0.099\n",
      "\tTrain loss: 580565.875 \t Valid loss: 525848.000 \t Valid R2:  -0.034\n",
      "\tTrain loss: 535695.938 \t Valid loss: 478721.250 \t Valid R2:  0.059\n",
      "\tTrain loss: 483459.594 \t Valid loss: 425294.500 \t Valid R2:  0.164\n",
      "\tTrain loss: 428752.031 \t Valid loss: 372861.625 \t Valid R2:  0.267\n",
      "\tTrain loss: 376994.500 \t Valid loss: 327977.969 \t Valid R2:  0.355\n",
      "\tTrain loss: 329273.938 \t Valid loss: 291481.094 \t Valid R2:  0.427\n",
      "\tTrain loss: 290121.375 \t Valid loss: 262742.250 \t Valid R2:  0.484\n",
      "/data2/yinterian/pmlb/models/model_1193_BNG_lowbwt_acc_48.pth\n",
      "\tTrain loss: 258405.984 \t Valid loss: 240700.078 \t Valid R2:  0.527\n",
      "/data2/yinterian/pmlb/models/model_1193_BNG_lowbwt_acc_53.pth\n",
      "\tTrain loss: 234902.219 \t Valid loss: 224988.500 \t Valid R2:  0.558\n",
      "/data2/yinterian/pmlb/models/model_1193_BNG_lowbwt_acc_56.pth\n",
      "\tTrain loss: 219146.250 \t Valid loss: 214513.438 \t Valid R2:  0.578\n",
      "/data2/yinterian/pmlb/models/model_1193_BNG_lowbwt_acc_58.pth\n",
      "\tTrain loss: 209138.688 \t Valid loss: 208252.984 \t Valid R2:  0.591\n",
      "/data2/yinterian/pmlb/models/model_1193_BNG_lowbwt_acc_59.pth\n",
      "\tTrain loss: 204594.078 \t Valid loss: 205409.422 \t Valid R2:  0.596\n",
      "/data2/yinterian/pmlb/models/model_1193_BNG_lowbwt_acc_60.pth\n",
      "\tTrain loss: 203714.188 \t Valid loss: 205172.594 \t Valid R2:  0.597\n",
      "/data2/yinterian/pmlb/models/model_1193_BNG_lowbwt_acc_60.pth\n",
      "\tTrain loss: 205421.250 \t Valid loss: 206717.703 \t Valid R2:  0.594\n",
      "\tTrain loss: 209065.641 \t Valid loss: 209160.953 \t Valid R2:  0.589\n",
      "\tTrain loss: 212829.875 \t Valid loss: 211894.266 \t Valid R2:  0.583\n",
      "\tTrain loss: 217622.406 \t Valid loss: 214782.016 \t Valid R2:  0.578\n",
      "\tTrain loss: 221418.828 \t Valid loss: 217407.484 \t Valid R2:  0.573\n",
      "\tTrain loss: 224072.734 \t Valid loss: 219613.484 \t Valid R2:  0.568\n",
      "\tTrain loss: 226348.438 \t Valid loss: 221209.766 \t Valid R2:  0.565\n",
      "\tTrain loss: 228382.125 \t Valid loss: 221931.812 \t Valid R2:  0.564\n",
      "\tTrain loss: 229203.312 \t Valid loss: 221843.531 \t Valid R2:  0.564\n",
      "\tTrain loss: 229366.078 \t Valid loss: 220910.062 \t Valid R2:  0.566\n",
      "\tTrain loss: 228332.453 \t Valid loss: 219612.594 \t Valid R2:  0.568\n",
      "\tTrain loss: 227196.719 \t Valid loss: 218016.547 \t Valid R2:  0.571\n",
      "\tTrain loss: 225460.250 \t Valid loss: 216327.953 \t Valid R2:  0.575\n",
      "\tTrain loss: 223492.047 \t Valid loss: 214612.688 \t Valid R2:  0.578\n",
      "\tTrain loss: 221285.016 \t Valid loss: 212961.734 \t Valid R2:  0.581\n",
      "\tTrain loss: 218951.484 \t Valid loss: 211479.250 \t Valid R2:  0.584\n",
      "\tTrain loss: 217485.984 \t Valid loss: 210056.297 \t Valid R2:  0.587\n",
      "\tTrain loss: 214446.531 \t Valid loss: 208875.859 \t Valid R2:  0.589\n",
      "\tTrain loss: 214289.828 \t Valid loss: 207725.094 \t Valid R2:  0.592\n",
      "\tTrain loss: 212048.188 \t Valid loss: 206594.781 \t Valid R2:  0.594\n",
      "\tTrain loss: 210169.641 \t Valid loss: 205480.562 \t Valid R2:  0.596\n",
      "\tTrain loss: 208140.875 \t Valid loss: 204404.000 \t Valid R2:  0.598\n",
      "/data2/yinterian/pmlb/models/model_1193_BNG_lowbwt_acc_60.pth\n",
      "\tTrain loss: 207713.359 \t Valid loss: 203374.188 \t Valid R2:  0.600\n",
      "/data2/yinterian/pmlb/models/model_1193_BNG_lowbwt_acc_60.pth\n",
      "\tTrain loss: 206232.969 \t Valid loss: 202492.016 \t Valid R2:  0.602\n",
      "/data2/yinterian/pmlb/models/model_1193_BNG_lowbwt_acc_60.pth\n",
      "\tTrain loss: 205822.859 \t Valid loss: 201782.656 \t Valid R2:  0.603\n",
      "/data2/yinterian/pmlb/models/model_1193_BNG_lowbwt_acc_60.pth\n",
      "\tTrain loss: 204835.266 \t Valid loss: 201217.844 \t Valid R2:  0.604\n",
      "/data2/yinterian/pmlb/models/model_1193_BNG_lowbwt_acc_60.pth\n",
      "\tTrain loss: 203730.875 \t Valid loss: 200759.359 \t Valid R2:  0.605\n",
      "/data2/yinterian/pmlb/models/model_1193_BNG_lowbwt_acc_61.pth\n",
      "\tTrain loss: 203408.625 \t Valid loss: 200380.594 \t Valid R2:  0.606\n",
      "/data2/yinterian/pmlb/models/model_1193_BNG_lowbwt_acc_61.pth\n",
      "\tTrain loss: 202842.062 \t Valid loss: 200076.672 \t Valid R2:  0.607\n",
      "/data2/yinterian/pmlb/models/model_1193_BNG_lowbwt_acc_61.pth\n",
      "\tTrain loss: 202850.250 \t Valid loss: 199839.453 \t Valid R2:  0.607\n",
      "/data2/yinterian/pmlb/models/model_1193_BNG_lowbwt_acc_61.pth\n",
      "\tTrain loss: 202180.781 \t Valid loss: 199673.281 \t Valid R2:  0.608\n",
      "/data2/yinterian/pmlb/models/model_1193_BNG_lowbwt_acc_61.pth\n",
      "\tTrain loss: 202288.047 \t Valid loss: 199560.812 \t Valid R2:  0.608\n",
      "/data2/yinterian/pmlb/models/model_1193_BNG_lowbwt_acc_61.pth\n",
      "\tTrain loss: 202091.203 \t Valid loss: 199491.453 \t Valid R2:  0.608\n",
      "/data2/yinterian/pmlb/models/model_1193_BNG_lowbwt_acc_61.pth\n",
      "\tTrain loss: 202132.531 \t Valid loss: 199443.500 \t Valid R2:  0.608\n",
      "/data2/yinterian/pmlb/models/model_1193_BNG_lowbwt_acc_61.pth\n"
     ]
    },
    {
     "name": "stdout",
     "output_type": "stream",
     "text": [
      "\tTrain loss: 201416.875 \t Valid loss: 199427.531 \t Valid R2:  0.608\n",
      "/data2/yinterian/pmlb/models/model_1193_BNG_lowbwt_acc_61.pth\n",
      "Best valid r2: 0.608\n"
     ]
    }
   ],
   "source": [
    "optimizer = torch.optim.Adam(model.parameters(), lr=0.5, weight_decay=1e-5)\n",
    "best_val = train_model(model, train_dl, valid_dl, optimizer, epochs=100)"
   ]
  },
  {
   "cell_type": "code",
   "execution_count": 68,
   "metadata": {},
   "outputs": [
    {
     "data": {
      "text/plain": [
       "0.6079983696878916"
      ]
     },
     "execution_count": 68,
     "metadata": {},
     "output_type": "execute_result"
    }
   ],
   "source": [
    "best_val"
   ]
  },
  {
   "cell_type": "markdown",
   "metadata": {},
   "source": [
    "## Lab\n",
    "* Find a dataset (from pmlb) from with just categorical variables. Modify some of the code to make it work in this case.\n",
    "* Find a dataset (from pmlb) with all continous variables. Modifiy teh code to make it work in this case as well.\n",
    "* Compute test $R^2$"
   ]
  },
  {
   "cell_type": "code",
   "execution_count": null,
   "metadata": {},
   "outputs": [],
   "source": []
  }
 ],
 "metadata": {
  "kernelspec": {
   "display_name": "Python 3",
   "language": "python",
   "name": "python3"
  },
  "language_info": {
   "codemirror_mode": {
    "name": "ipython",
    "version": 3
   },
   "file_extension": ".py",
   "mimetype": "text/x-python",
   "name": "python",
   "nbconvert_exporter": "python",
   "pygments_lexer": "ipython3",
   "version": "3.7.6"
  },
  "toc": {
   "base_numbering": 1,
   "nav_menu": {},
   "number_sections": true,
   "sideBar": true,
   "skip_h1_title": false,
   "title_cell": "Table of Contents",
   "title_sidebar": "Contents",
   "toc_cell": false,
   "toc_position": {},
   "toc_section_display": "block",
   "toc_window_display": false
  }
 },
 "nbformat": 4,
 "nbformat_minor": 2
}
