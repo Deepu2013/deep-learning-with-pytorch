{
 "cells": [
  {
   "cell_type": "markdown",
   "metadata": {},
   "source": [
    "#  Sequence to Sequence with Attention\n",
    "In this project we will be teaching a neural network to translate from\n",
    "French to English."
   ]
  },
  {
   "cell_type": "markdown",
   "metadata": {},
   "source": [
    "This is made possible by the simple but powerful idea of the [sequence\n",
    "to sequence network](https://arxiv.org/abs/1409.3215>), in which two\n",
    "recurrent neural networks work together to transform one sequence to\n",
    "another. An encoder network condenses an input sequence into a vector,\n",
    "and a decoder network unfolds that vector into a new sequence.\n",
    "\n",
    "To improve upon this model we'll use an [attention\n",
    "mechanism](https://arxiv.org/abs/1409.0473), which lets the decoder\n",
    "learn to focus over a specific range of the input sequence."
   ]
  },
  {
   "cell_type": "code",
   "execution_count": 1,
   "metadata": {},
   "outputs": [],
   "source": [
    "from __future__ import unicode_literals, print_function, division\n",
    "from io import open\n",
    "import unicodedata\n",
    "import string\n",
    "import re\n",
    "import random\n",
    "\n",
    "import torch\n",
    "import torch.nn as nn\n",
    "from torch import optim\n",
    "import torch.nn.functional as F\n",
    "from torch.utils.data import Dataset, DataLoader\n",
    "import numpy as np\n",
    "%matplotlib inline"
   ]
  },
  {
   "cell_type": "markdown",
   "metadata": {},
   "source": [
    "## Preparing Data\n",
    "The data for this project is a set of many thousands of English to\n",
    "French translation pairs."
   ]
  },
  {
   "cell_type": "code",
   "execution_count": 2,
   "metadata": {},
   "outputs": [],
   "source": [
    "def download_dataset():\n",
    "    ! wget https://download.pytorch.org/tutorial/data.zip\n",
    "    ! unzip data.zip"
   ]
  },
  {
   "cell_type": "code",
   "execution_count": 3,
   "metadata": {},
   "outputs": [],
   "source": [
    "# wget https://www.manythings.org/anki/spa-eng.zip\n",
    "# mv _about.txt spa.txt data"
   ]
  },
  {
   "cell_type": "code",
   "execution_count": 4,
   "metadata": {},
   "outputs": [],
   "source": [
    "# to download the dataset\n",
    "#download_dataset()"
   ]
  },
  {
   "cell_type": "markdown",
   "metadata": {},
   "source": [
    "We'll need a unique index per word to use as the inputs and targets of\n",
    "the networks later. To keep track of all this we will use a helper class\n",
    "called ``Lang`` which has word → index (``word2index``) and index → word\n",
    "(``index2word``) dictionaries, as well as a count of each word\n",
    "``word2count`` to use to later replace rare words."
   ]
  },
  {
   "cell_type": "code",
   "execution_count": 5,
   "metadata": {},
   "outputs": [],
   "source": [
    "SOS_token = 1\n",
    "EOS_token = 2\n",
    "class Lang:\n",
    "    def __init__(self, name):\n",
    "        self.name = name\n",
    "        self.word2index = {\"PAD\": 0, \"SOS\": 1, \"EOS\": 2, \"UNK\": 3}\n",
    "        self.word2count = {}\n",
    "        self.index2word = {0: \"PAD\", 1: \"SOS\", 2: \"EOS\", 3: \"UNK\"}\n",
    "        self.n_words = 4  # Count SOS and EOS\n",
    "\n",
    "    def addSentence(self, sentence):\n",
    "        for word in sentence.split(' '):\n",
    "            self.addWord(word)\n",
    "\n",
    "    def addWord(self, word):\n",
    "        if word not in self.word2index:\n",
    "            self.word2index[word] = self.n_words\n",
    "            self.word2count[word] = 1\n",
    "            self.index2word[self.n_words] = word\n",
    "            self.n_words += 1\n",
    "        else:\n",
    "            self.word2count[word] += 1"
   ]
  },
  {
   "cell_type": "markdown",
   "metadata": {},
   "source": [
    "The files are all in Unicode, to simplify we will turn Unicode\n",
    "characters to ASCII, make everything lowercase, and trim most\n",
    "punctuation.\n",
    "\n",
    "\n"
   ]
  },
  {
   "cell_type": "code",
   "execution_count": 6,
   "metadata": {},
   "outputs": [],
   "source": [
    "def unicodeToAscii(s):\n",
    "    \"\"\"Turn a Unicode string to plain ASCII\n",
    "    \n",
    "    https://stackoverflow.com/a/518232/2809427\n",
    "    \"\"\"\n",
    "    return ''.join(c for c in unicodedata.normalize('NFD', s)\n",
    "        if unicodedata.category(c) != 'Mn'\n",
    "    )\n",
    "\n",
    "def normalizeString(s):\n",
    "    \"\"\"Lowercase, trim, and remove non-letter characters\"\"\"\n",
    "    s = unicodeToAscii(s.lower().strip())\n",
    "    s = re.sub(r\"([.!?])\", r\" \\1\", s)\n",
    "    s = re.sub(r\"[^a-zA-Z.!?]+\", r\" \", s)\n",
    "    return s"
   ]
  },
  {
   "cell_type": "code",
   "execution_count": 7,
   "metadata": {},
   "outputs": [],
   "source": [
    "def readLangs(filename):\n",
    "    # Read the file and split into lines\n",
    "    lines = open(filename).read().strip().split('\\n')\n",
    "\n",
    "    # Split every line into pairs and normalize\n",
    "    pairs = [[normalizeString(s) for s in l.split('\\t')] for l in lines]\n",
    "\n",
    "    return pairs"
   ]
  },
  {
   "cell_type": "code",
   "execution_count": 8,
   "metadata": {},
   "outputs": [],
   "source": [
    "MAX_LENGTH = 15\n",
    "\n",
    "# Selecting some sentences\n",
    "eng_prefixes = (\n",
    "    \"i am \", \"i m \",\n",
    "    \"he is\", \"he s \",\n",
    "    \"she is\", \"she s \",\n",
    "    \"you are\", \"you re \",\n",
    "    \"we are\", \"we re \",\n",
    "    \"they are\", \"they re \"\n",
    ")\n",
    "\n",
    "# Filtering by sentence length\n",
    "def filterPair(p):\n",
    "    return len(p[0].split(' ')) < MAX_LENGTH and \\\n",
    "        len(p[1].split(' ')) < MAX_LENGTH and \\\n",
    "        p[0].startswith(eng_prefixes)\n",
    "\n",
    "\n",
    "def filterPairs(pairs):\n",
    "    return [pair for pair in pairs if filterPair(pair)]"
   ]
  },
  {
   "cell_type": "markdown",
   "metadata": {},
   "source": [
    "The full process for preparing the data is:\n",
    "\n",
    "-  Read text file and split into lines, split lines into pairs\n",
    "-  Normalize text, filter by length and content\n",
    "-  Make word lists from sentences in pairs"
   ]
  },
  {
   "cell_type": "code",
   "execution_count": 9,
   "metadata": {},
   "outputs": [],
   "source": [
    "def prepareData(data_filename):\n",
    "    pairs = readLangs(data_filename)\n",
    "    print(\"Read %s sentence pairs\" % len(pairs))\n",
    "    pairs = filterPairs(pairs)\n",
    "    print(\"Trimmed to %s sentence pairs\" % len(pairs))\n",
    "    \n",
    "    \n",
    "    #randomize the data with a fixed seed for repeatability\n",
    "    random.seed(4)\n",
    "    random.shuffle(pairs)\n",
    "    #choose the first 10 pairs for testing and the rest for training\n",
    "    valid_pairs = pairs[0:300]\n",
    "    train_pairs = pairs[300:len(pairs)]\n",
    "    \n",
    "    print(\"number of valid pairs: %s\" % len(valid_pairs))\n",
    "    print(\"number of train pairs: %s\" % len(train_pairs))\n",
    "    \n",
    "    input_lang = Lang(\"english\")\n",
    "    output_lang = Lang(\"french\")\n",
    "    \n",
    "    print(\"Counting words...\")\n",
    "    cnt = 0\n",
    "    for pair in pairs:\n",
    "        input_lang.addSentence(pair[1])\n",
    "        output_lang.addSentence(pair[0])\n",
    "        \n",
    "    print(\"Counted words:\")\n",
    "    print(input_lang.name, input_lang.n_words)\n",
    "    print(output_lang.name, output_lang.n_words)\n",
    "    return input_lang, output_lang, pairs, train_pairs, valid_pairs"
   ]
  },
  {
   "cell_type": "code",
   "execution_count": 10,
   "metadata": {},
   "outputs": [
    {
     "name": "stdout",
     "output_type": "stream",
     "text": [
      "Read 135842 sentence pairs\n",
      "Trimmed to 12823 sentence pairs\n",
      "number of valid pairs: 300\n",
      "number of train pairs: 12523\n",
      "Counting words...\n",
      "Counted words:\n",
      "english 5036\n",
      "french 3310\n",
      "['we re still vulnerable .', 'nous sommes encore vulnerables .']\n"
     ]
    }
   ],
   "source": [
    "input_lang, output_lang, pairs, train_pairs, valid_pairs = prepareData(\"data/eng-fra.txt\")\n",
    "random.seed(4)\n",
    "print(random.choice(pairs))"
   ]
  },
  {
   "cell_type": "code",
   "execution_count": 11,
   "metadata": {},
   "outputs": [
    {
     "data": {
      "text/plain": [
       "['i m no liar .', 'je ne suis pas un menteur .']"
      ]
     },
     "execution_count": 11,
     "metadata": {},
     "output_type": "execute_result"
    }
   ],
   "source": [
    "train_pairs[0]"
   ]
  },
  {
   "cell_type": "markdown",
   "metadata": {},
   "source": [
    "## Dataset"
   ]
  },
  {
   "cell_type": "code",
   "execution_count": 12,
   "metadata": {},
   "outputs": [],
   "source": [
    "def encode_sentence(s, vocab2index, N=MAX_LENGTH+2, padding_start=True):\n",
    "    enc = np.zeros(N, dtype=np.int32)\n",
    "    enc1 = np.array([SOS_token] + [vocab2index.get(w, vocab2index[\"UNK\"]) for w in s.split()] + [EOS_token])\n",
    "    l = min(N, len(enc1))\n",
    "    if padding_start:\n",
    "        enc[:l] = enc1[:l]\n",
    "    else:\n",
    "        enc[N-l:] = enc1[:l]\n",
    "    return enc, l"
   ]
  },
  {
   "cell_type": "code",
   "execution_count": 13,
   "metadata": {},
   "outputs": [
    {
     "data": {
      "text/plain": [
       "['i m no liar .', 'je ne suis pas un menteur .']"
      ]
     },
     "execution_count": 13,
     "metadata": {},
     "output_type": "execute_result"
    }
   ],
   "source": [
    "train_pairs[0]"
   ]
  },
  {
   "cell_type": "code",
   "execution_count": 14,
   "metadata": {},
   "outputs": [
    {
     "data": {
      "text/plain": [
       "(array([  0,   0,   0,   0,   0,   0,   0,   0,   0,   0,   1,   3, 170,\n",
       "          3,   3,  11,   2], dtype=int32), 7)"
      ]
     },
     "execution_count": 14,
     "metadata": {},
     "output_type": "execute_result"
    }
   ],
   "source": [
    "encode_sentence(train_pairs[0][0], input_lang.word2index, padding_start=False)"
   ]
  },
  {
   "cell_type": "code",
   "execution_count": 15,
   "metadata": {},
   "outputs": [
    {
     "data": {
      "text/plain": [
       "(array([ 1,  3,  3,  3,  3,  3,  3, 10,  2,  0,  0,  0,  0,  0,  0,  0,  0],\n",
       "       dtype=int32), 9)"
      ]
     },
     "execution_count": 15,
     "metadata": {},
     "output_type": "execute_result"
    }
   ],
   "source": [
    "encode_sentence(train_pairs[0][1], output_lang.word2index)"
   ]
  },
  {
   "cell_type": "code",
   "execution_count": 16,
   "metadata": {},
   "outputs": [],
   "source": [
    "class PairDataset(Dataset):\n",
    "    def __init__(self, pairs, input_lang, output_lang):\n",
    "        self.pairs = pairs\n",
    "        self.input_word2index = input_lang.word2index\n",
    "        self.output_word2index = output_lang.word2index\n",
    "    \n",
    "    def __len__(self):\n",
    "        return len(self.pairs)\n",
    "    \n",
    "    def __getitem__(self, idx):\n",
    "        x, n_x = encode_sentence(self.pairs[idx][1], self.input_word2index, padding_start=False)\n",
    "        y, n_y = encode_sentence(self.pairs[idx][0], self.output_word2index)\n",
    "        return x, y\n",
    "    \n",
    "train_ds = PairDataset(train_pairs, input_lang, output_lang)\n",
    "valid_ds = PairDataset(valid_pairs, input_lang, output_lang)"
   ]
  },
  {
   "cell_type": "code",
   "execution_count": 17,
   "metadata": {},
   "outputs": [
    {
     "data": {
      "text/plain": [
       "(array([  0,   0,   0,   0,   0,   0,   0,   0,   1,   4,  58,   5,  60,\n",
       "          7, 424,  11,   2], dtype=int32),\n",
       " array([  1,   4,   5, 193, 258,  10,   2,   0,   0,   0,   0,   0,   0,\n",
       "          0,   0,   0,   0], dtype=int32))"
      ]
     },
     "execution_count": 17,
     "metadata": {},
     "output_type": "execute_result"
    }
   ],
   "source": [
    "train_ds[0]"
   ]
  },
  {
   "cell_type": "code",
   "execution_count": 18,
   "metadata": {},
   "outputs": [],
   "source": [
    "batch_size=5\n",
    "train_dl = DataLoader(train_ds, batch_size=batch_size, shuffle=True)\n",
    "valid_dl = DataLoader(valid_ds, batch_size=batch_size)"
   ]
  },
  {
   "cell_type": "markdown",
   "metadata": {},
   "source": [
    "## The Seq2Seq Model\n",
    "\n",
    "A Recurrent Neural Network, or RNN, is a network that operates on a\n",
    "sequence and uses its own output as input for subsequent steps.\n",
    "\n",
    "A Sequence to Sequence network <https://arxiv.org/abs/1409.3215>, or\n",
    "seq2seq network, or Encoder Decoder network <https://arxiv.org/pdf/1406.1078v3.pdf>, is a model consisting of two RNNs called the encoder and decoder. The encoder reads\n",
    "an input sequence and outputs a single vector, and the decoder reads that vector to produce an output sequence."
   ]
  },
  {
   "cell_type": "markdown",
   "metadata": {},
   "source": [
    "### The Encoder\n",
    "The encoder of a seq2seq network is a RNN that outputs some value for\n",
    "every word from the input sentence. For every input word the encoder\n",
    "outputs a vector and a hidden state, and uses the hidden state for the\n",
    "next input word.\n",
    "\n",
    "![](imgs/encoder-network.png)"
   ]
  },
  {
   "cell_type": "code",
   "execution_count": 19,
   "metadata": {},
   "outputs": [],
   "source": [
    "class EncoderRNN(nn.Module):\n",
    "    def __init__(self, input_size, hidden_size):\n",
    "        super(EncoderRNN, self).__init__()\n",
    "        self.hidden_size = hidden_size\n",
    "\n",
    "        self.embedding = nn.Embedding(input_size, hidden_size, padding_idx=0)\n",
    "        self.gru = nn.GRU(hidden_size, hidden_size, batch_first=True)\n",
    "        self.dropout = nn.Dropout(0.3)\n",
    "\n",
    "    def forward(self, x):\n",
    "        x = self.embedding(x)\n",
    "        x = self.dropout(x)\n",
    "        output, hidden = self.gru(x)\n",
    "        return output, hidden"
   ]
  },
  {
   "cell_type": "code",
   "execution_count": 20,
   "metadata": {},
   "outputs": [],
   "source": [
    "x, y = next(iter(train_dl))"
   ]
  },
  {
   "cell_type": "code",
   "execution_count": 21,
   "metadata": {},
   "outputs": [
    {
     "data": {
      "text/plain": [
       "(tensor([[   0,    0,    0,    0,    0,    0,    1,   51,   52,    7,  281,   34,\n",
       "           257,   68, 1043,   11,    2],\n",
       "         [   0,    0,    0,    0,    0,    0,    0,    0,    0,    0,    0,    1,\n",
       "             4,    5, 1978,   11,    2],\n",
       "         [   0,    0,    0,    0,    0,    0,    0,    0,    0,    0,    1,   40,\n",
       "            41,  251,  503,   11,    2],\n",
       "         [   0,    0,    0,    0,    0,    0,    0,    1,    4,    5,   89,  185,\n",
       "           232,   52, 3822,   11,    2],\n",
       "         [   0,    0,    0,    0,    0,    0,    0,    0,    0,    0,    1,  137,\n",
       "            52,   26, 1080,   11,    2]], dtype=torch.int32),\n",
       " tensor([[   1,   56,   52,   65, 2111, 2112,   10,    2,    0,    0,    0,    0,\n",
       "             0,    0,    0,    0,    0],\n",
       "         [   1,    4,    5, 1509,   10,    2,    0,    0,    0,    0,    0,    0,\n",
       "             0,    0,    0,    0,    0],\n",
       "         [   1,   11,   12,  101, 1789,   10,    2,    0,    0,    0,    0,    0,\n",
       "             0,    0,    0,    0,    0],\n",
       "         [   1,    4,    5,   16,  152,  198,   57,  199,   10,    2,    0,    0,\n",
       "             0,    0,    0,    0,    0],\n",
       "         [   1,  111,   57,   22,   96,   10,    2,    0,    0,    0,    0,    0,\n",
       "             0,    0,    0,    0,    0]], dtype=torch.int32))"
      ]
     },
     "execution_count": 21,
     "metadata": {},
     "output_type": "execute_result"
    }
   ],
   "source": [
    "x, y"
   ]
  },
  {
   "cell_type": "code",
   "execution_count": 22,
   "metadata": {},
   "outputs": [],
   "source": [
    "input_size = input_lang.n_words\n",
    "hidden_size = 2\n",
    "encoder = EncoderRNN(input_size, hidden_size)"
   ]
  },
  {
   "cell_type": "code",
   "execution_count": 23,
   "metadata": {},
   "outputs": [],
   "source": [
    "enc_outputs, enc_hidden = encoder(x.long())"
   ]
  },
  {
   "cell_type": "code",
   "execution_count": 24,
   "metadata": {},
   "outputs": [
    {
     "data": {
      "text/plain": [
       "(torch.Size([5, 17, 2]), torch.Size([1, 5, 2]))"
      ]
     },
     "execution_count": 24,
     "metadata": {},
     "output_type": "execute_result"
    }
   ],
   "source": [
    "enc_outputs.shape, enc_hidden.shape"
   ]
  },
  {
   "cell_type": "markdown",
   "metadata": {},
   "source": [
    "The Attention Decoder\n",
    "-----------"
   ]
  },
  {
   "cell_type": "markdown",
   "metadata": {},
   "source": [
    "Attention allows the decoder network to \"focus\" on a different part of\n",
    "the encoder's outputs for every step of the decoder's own outputs. First\n",
    "we calculate a set of *attention weights*. These will be multiplied by\n",
    "the encoder output vectors to create a weighted combination. The result\n",
    "(called ``attn_applied`` in the code) should contain information about\n",
    "that specific part of the input sequence, and thus help the decoder\n",
    "choose the right output words.\n",
    "\n",
    "Calculating the attention weights is done with another feed-forward\n",
    "layer ``attn``, using the decoder's input and hidden state as inputs.\n",
    "Because there are sentences of all sizes in the training data, to\n",
    "actually create and train this layer we have to choose a maximum\n",
    "sentence length (input length, for encoder outputs) that it can apply\n",
    "to. Sentences of the maximum length will use all the attention weights,\n",
    "while shorter sentences will only use the first few."
   ]
  },
  {
   "cell_type": "code",
   "execution_count": 25,
   "metadata": {},
   "outputs": [],
   "source": [
    "class AttnDotDecoderRNN(nn.Module):\n",
    "    def __init__(self, output_size, hidden_size, max_length=MAX_LENGTH):\n",
    "        super(AttnDotDecoderRNN, self).__init__()\n",
    "\n",
    "        self.embedding = nn.Embedding(output_size, hidden_size, padding_idx=0)\n",
    "        self.attn_combine = nn.Linear(hidden_size * 2, hidden_size)\n",
    "        self.dropout = nn.Dropout(0.3)\n",
    "        self.gru = nn.GRU(hidden_size, hidden_size, batch_first=True)\n",
    "        self.attn_combine = nn.Linear(hidden_size * 2, hidden_size)\n",
    "        self.out = nn.Linear(hidden_size, output_size)\n",
    "\n",
    "    def forward(self, input_step, last_hidden, enc_outputs):\n",
    "        embedded = self.embedding(input_step)\n",
    "        embedded = self.dropout(embedded)\n",
    "\n",
    "        output, hidden = self.gru(embedded, last_hidden)\n",
    "        \n",
    "        # Calculate attention weights from the current GRU hidden\n",
    "        attention_scores = torch.einsum('ijk,ik->ij', [enc_outputs, hidden[-1]])\n",
    "        attn_weights = F.softmax(attention_scores, dim=1)    \n",
    "        \n",
    "        # apply attention to enc_outputs\n",
    "        attn_applied = torch.einsum('ijk,ij->ik', [enc_outputs, attn_weights])\n",
    "        \n",
    "        concat_input = torch.cat((output.squeeze(1), attn_applied), 1) \n",
    "        concat_output = F.relu(self.attn_combine(concat_input))\n",
    "        output = self.out(concat_output)\n",
    "\n",
    "        return output, hidden, attn_weights"
   ]
  },
  {
   "cell_type": "code",
   "execution_count": 26,
   "metadata": {},
   "outputs": [],
   "source": [
    "output_size = output_lang.n_words\n",
    "hidden_size = 2"
   ]
  },
  {
   "cell_type": "code",
   "execution_count": 27,
   "metadata": {},
   "outputs": [],
   "source": [
    "embedding = nn.Embedding(output_size, hidden_size)\n",
    "attn = nn.Linear(hidden_size * 2, 1)\n",
    "attn_combine = nn.Linear(hidden_size * 2, hidden_size)\n",
    "dropout = nn.Dropout(0.1)\n",
    "gru = nn.GRU(hidden_size, hidden_size, batch_first=True)\n",
    "out = nn.Linear(hidden_size, output_size)"
   ]
  },
  {
   "cell_type": "code",
   "execution_count": 28,
   "metadata": {},
   "outputs": [
    {
     "data": {
      "text/plain": [
       "torch.Size([5])"
      ]
     },
     "execution_count": 28,
     "metadata": {},
     "output_type": "execute_result"
    }
   ],
   "source": [
    "y[:,0].shape"
   ]
  },
  {
   "cell_type": "code",
   "execution_count": 29,
   "metadata": {},
   "outputs": [
    {
     "data": {
      "text/plain": [
       "torch.Size([5, 1])"
      ]
     },
     "execution_count": 29,
     "metadata": {},
     "output_type": "execute_result"
    }
   ],
   "source": [
    "batch_size = y.size(0)\n",
    "decoder_input = SOS_token*torch.ones(batch_size,1)\n",
    "decoder_input.shape"
   ]
  },
  {
   "cell_type": "code",
   "execution_count": 30,
   "metadata": {},
   "outputs": [],
   "source": [
    "hidden = enc_hidden\n",
    "xx = decoder_input\n",
    "xx = embedding(xx.long())\n",
    "output, hidden = gru(xx, hidden)"
   ]
  },
  {
   "cell_type": "code",
   "execution_count": 31,
   "metadata": {},
   "outputs": [
    {
     "data": {
      "text/plain": [
       "torch.Size([5, 1, 2])"
      ]
     },
     "execution_count": 31,
     "metadata": {},
     "output_type": "execute_result"
    }
   ],
   "source": [
    "output.shape"
   ]
  },
  {
   "cell_type": "code",
   "execution_count": 32,
   "metadata": {},
   "outputs": [],
   "source": [
    "enc_length = 17\n",
    "attention_scores = torch.zeros(batch_size, enc_length)\n",
    "for ei in range(enc_length):\n",
    "    attention_scores[:, ei] = (enc_outputs[:, ei, :]*hidden[-1]).sum(1)"
   ]
  },
  {
   "cell_type": "code",
   "execution_count": 33,
   "metadata": {},
   "outputs": [
    {
     "data": {
      "text/plain": [
       "torch.Size([5, 17])"
      ]
     },
     "execution_count": 33,
     "metadata": {},
     "output_type": "execute_result"
    }
   ],
   "source": [
    "c = torch.einsum('ijk,ik->ij', [enc_outputs, hidden[-1]])\n",
    "c.shape"
   ]
  },
  {
   "cell_type": "code",
   "execution_count": 34,
   "metadata": {},
   "outputs": [
    {
     "data": {
      "text/plain": [
       "tensor([[1, 1, 1, 1, 1, 1, 1, 1, 1, 1, 1, 1, 1, 1, 1, 1, 1],\n",
       "        [1, 1, 1, 1, 1, 1, 1, 1, 1, 1, 1, 1, 1, 1, 1, 1, 1],\n",
       "        [1, 1, 1, 1, 1, 1, 1, 1, 1, 1, 1, 1, 1, 1, 1, 1, 1],\n",
       "        [1, 1, 1, 1, 1, 1, 1, 1, 1, 1, 1, 1, 1, 1, 1, 1, 1],\n",
       "        [1, 1, 1, 1, 1, 1, 1, 1, 1, 1, 1, 1, 1, 1, 1, 1, 1]],\n",
       "       dtype=torch.uint8)"
      ]
     },
     "execution_count": 34,
     "metadata": {},
     "output_type": "execute_result"
    }
   ],
   "source": [
    "attention_scores==c"
   ]
  },
  {
   "cell_type": "code",
   "execution_count": 35,
   "metadata": {},
   "outputs": [
    {
     "data": {
      "text/plain": [
       "torch.Size([5, 17])"
      ]
     },
     "execution_count": 35,
     "metadata": {},
     "output_type": "execute_result"
    }
   ],
   "source": [
    "attn_weights = F.softmax(attention_scores, dim=1)\n",
    "attn_weights.shape"
   ]
  },
  {
   "cell_type": "code",
   "execution_count": 36,
   "metadata": {},
   "outputs": [
    {
     "data": {
      "text/plain": [
       "torch.Size([5, 17])"
      ]
     },
     "execution_count": 36,
     "metadata": {},
     "output_type": "execute_result"
    }
   ],
   "source": [
    "attn_weights.shape"
   ]
  },
  {
   "cell_type": "code",
   "execution_count": 37,
   "metadata": {},
   "outputs": [
    {
     "data": {
      "text/plain": [
       "torch.Size([5, 17, 2])"
      ]
     },
     "execution_count": 37,
     "metadata": {},
     "output_type": "execute_result"
    }
   ],
   "source": [
    "enc_outputs.shape"
   ]
  },
  {
   "cell_type": "code",
   "execution_count": 38,
   "metadata": {},
   "outputs": [],
   "source": [
    "attention_scores = torch.einsum('ijk,ik->ij', [enc_outputs, hidden[-1]])\n",
    "attn_weights = F.softmax(attention_scores, dim=1)    \n",
    "        \n",
    "attn_applied = torch.einsum('ijk,ij->ik', [enc_outputs, attn_weights])"
   ]
  },
  {
   "cell_type": "code",
   "execution_count": 39,
   "metadata": {},
   "outputs": [],
   "source": [
    "attn_applied2 = torch.zeros(batch_size, enc_length, hidden_size)\n",
    "for ei in range(hidden_size):\n",
    "    attn_applied2[:,:, ei] = enc_outputs[:,:,ei]*attn_weights"
   ]
  },
  {
   "cell_type": "code",
   "execution_count": 40,
   "metadata": {},
   "outputs": [
    {
     "data": {
      "text/plain": [
       "tensor([[0.7636, 0.4783],\n",
       "        [0.6857, 0.4225],\n",
       "        [0.6047, 0.4266],\n",
       "        [0.5685, 0.4783],\n",
       "        [0.7432, 0.5769]], grad_fn=<SumBackward2>)"
      ]
     },
     "execution_count": 40,
     "metadata": {},
     "output_type": "execute_result"
    }
   ],
   "source": [
    "attn_applied2.sum(1) "
   ]
  },
  {
   "cell_type": "code",
   "execution_count": 41,
   "metadata": {},
   "outputs": [
    {
     "data": {
      "text/plain": [
       "tensor([[0.7636, 0.4783],\n",
       "        [0.6857, 0.4225],\n",
       "        [0.6047, 0.4266],\n",
       "        [0.5685, 0.4783],\n",
       "        [0.7432, 0.5769]], grad_fn=<AsStridedBackward>)"
      ]
     },
     "execution_count": 41,
     "metadata": {},
     "output_type": "execute_result"
    }
   ],
   "source": [
    "attn_applied"
   ]
  },
  {
   "cell_type": "code",
   "execution_count": 42,
   "metadata": {},
   "outputs": [
    {
     "data": {
      "text/plain": [
       "torch.Size([5, 2])"
      ]
     },
     "execution_count": 42,
     "metadata": {},
     "output_type": "execute_result"
    }
   ],
   "source": [
    "output.squeeze(1).shape"
   ]
  },
  {
   "cell_type": "code",
   "execution_count": 43,
   "metadata": {},
   "outputs": [
    {
     "data": {
      "text/plain": [
       "torch.Size([5, 4])"
      ]
     },
     "execution_count": 43,
     "metadata": {},
     "output_type": "execute_result"
    }
   ],
   "source": [
    "concat_input = torch.cat((output.squeeze(1), attn_applied), 1) \n",
    "concat_input.shape"
   ]
  },
  {
   "cell_type": "code",
   "execution_count": 44,
   "metadata": {},
   "outputs": [],
   "source": [
    "concat_output = F.relu(attn_combine(concat_input))\n",
    "output = out(concat_output)"
   ]
  },
  {
   "cell_type": "code",
   "execution_count": 45,
   "metadata": {},
   "outputs": [],
   "source": [
    "# testing the whole thing\n",
    "batch_size = y.size(0)\n",
    "decoder_input = SOS_token*torch.ones(batch_size,1).long()\n",
    "decoder = AttnDotDecoderRNN(output_size, hidden_size)"
   ]
  },
  {
   "cell_type": "code",
   "execution_count": 46,
   "metadata": {},
   "outputs": [],
   "source": [
    "output, hidden, attn_weights = decoder(decoder_input, hidden, enc_outputs)"
   ]
  },
  {
   "cell_type": "markdown",
   "metadata": {},
   "source": [
    "Training\n",
    "========"
   ]
  },
  {
   "cell_type": "markdown",
   "metadata": {},
   "source": [
    "Training the Model\n",
    "------------------\n",
    "\n",
    "To train we run the input sentence through the encoder, and keep track\n",
    "of every output and the latest hidden state. Then the decoder is given\n",
    "the ``<SOS>`` token as its first input, and the last hidden state of the\n",
    "encoder as its first hidden state.\n",
    "\n",
    "**Teacher forcing** is the concept of using the real target outputs as\n",
    "each next input, instead of using the decoder's guess as the next input.\n",
    "Using teacher forcing causes it to converge faster.\n",
    "\n",
    "Because of the freedom PyTorch's autograd gives us, we can randomly\n",
    "choose to use teacher forcing or not with a simple if statement. Turn\n",
    "``teacher_forcing_ratio`` up to use more of it."
   ]
  },
  {
   "cell_type": "code",
   "execution_count": 47,
   "metadata": {},
   "outputs": [],
   "source": [
    "def train_batch(x, y, encoder, decoder, encoder_optimizer, decoder_optimizer,\n",
    "                teacher_forcing_ratio=0.5):\n",
    "\n",
    "    encoder_optimizer.zero_grad()\n",
    "    decoder_optimizer.zero_grad()\n",
    "    \n",
    "    batch_size = y.size(0)\n",
    "    target_length = y.size(1)\n",
    "\n",
    "    enc_outputs, enc_hidden = encoder(x)\n",
    "\n",
    "    loss = 0\n",
    "    dec_input = y[:,0].unsqueeze(1) # allways SOS\n",
    "    hidden = enc_hidden\n",
    "\n",
    "    use_teacher_forcing = True if random.random() < teacher_forcing_ratio else False\n",
    "\n",
    "    for di in range(1, target_length):\n",
    "        output, hidden, attention = decoder(dec_input, hidden, enc_outputs)\n",
    "        yi =  y[:, di]\n",
    "        if (yi>0).sum() > 0:\n",
    "            loss += F.cross_entropy(\n",
    "                output, yi, ignore_index = 0, reduction=\"sum\")/(yi>0).sum()\n",
    "        if use_teacher_forcing:\n",
    "            dec_input = y[:, di].unsqueeze(1)  # Teacher forcing: Feed the target\n",
    "                                               # as the next input\n",
    "        else:                \n",
    "            dec_input = output.argmax(dim=1).unsqueeze(1).detach() # Feeds predictions\n",
    "\n",
    "    loss.backward()\n",
    "\n",
    "    encoder_optimizer.step()\n",
    "    decoder_optimizer.step()\n",
    "\n",
    "    return loss.item()"
   ]
  },
  {
   "cell_type": "code",
   "execution_count": 48,
   "metadata": {},
   "outputs": [],
   "source": [
    "def train(encoder, decoder, enc_optimizer, dec_optimizer, epochs = 10,\n",
    "          teacher_forcing_ratio=0.5):\n",
    "    for i in range(epochs):\n",
    "        total_loss = 0\n",
    "        total = 0\n",
    "        encoder.train()\n",
    "        decoder.train()\n",
    "        for x, y in train_dl:\n",
    "            x = x.long().cuda()\n",
    "            y = y.long().cuda()\n",
    "            loss = train_batch(x, y, encoder, decoder, enc_optimizer, dec_optimizer,\n",
    "                               teacher_forcing_ratio)\n",
    "            total_loss = loss*x.size(0)\n",
    "            total += x.size(0)\n",
    "        if i % 10 == 0:\n",
    "            print(\"train loss %.3f\" % (total_loss / total))   "
   ]
  },
  {
   "cell_type": "code",
   "execution_count": 49,
   "metadata": {},
   "outputs": [],
   "source": [
    "input_size = input_lang.n_words\n",
    "output_size = output_lang.n_words\n",
    "hidden_size = 300\n",
    "encoder = EncoderRNN(input_size, hidden_size).cuda()\n",
    "decoder = AttnDotDecoderRNN(output_size, hidden_size).cuda()\n",
    "enc_optimizer = optim.Adam(encoder.parameters(), lr=0.001)\n",
    "dec_optimizer = optim.Adam(decoder.parameters(), lr=0.001) "
   ]
  },
  {
   "cell_type": "code",
   "execution_count": 50,
   "metadata": {},
   "outputs": [],
   "source": [
    "batch_size= 1000\n",
    "train_dl = DataLoader(train_ds, batch_size=batch_size, shuffle=True)\n",
    "valid_dl = DataLoader(valid_ds, batch_size=batch_size)"
   ]
  },
  {
   "cell_type": "code",
   "execution_count": 51,
   "metadata": {},
   "outputs": [
    {
     "name": "stdout",
     "output_type": "stream",
     "text": [
      "train loss 2.828\n",
      "train loss 1.678\n",
      "train loss 1.322\n",
      "train loss 1.094\n",
      "train loss 0.595\n",
      "train loss 0.384\n",
      "train loss 0.309\n",
      "train loss 0.230\n",
      "train loss 0.393\n",
      "train loss 0.145\n"
     ]
    }
   ],
   "source": [
    "train(encoder, decoder, enc_optimizer, dec_optimizer, epochs = 100)"
   ]
  },
  {
   "cell_type": "code",
   "execution_count": 52,
   "metadata": {},
   "outputs": [
    {
     "name": "stdout",
     "output_type": "stream",
     "text": [
      "train loss 0.267\n",
      "train loss 0.113\n",
      "train loss 0.101\n",
      "train loss 0.104\n",
      "train loss 0.089\n",
      "train loss 0.187\n",
      "train loss 0.086\n",
      "train loss 0.082\n",
      "train loss 0.079\n",
      "train loss 0.081\n"
     ]
    }
   ],
   "source": [
    "enc_optimizer = optim.Adam(encoder.parameters(), lr=0.0001)\n",
    "dec_optimizer = optim.Adam(decoder.parameters(), lr=0.0001) \n",
    "train(encoder, decoder, enc_optimizer, dec_optimizer, epochs = 100)"
   ]
  },
  {
   "cell_type": "code",
   "execution_count": 53,
   "metadata": {},
   "outputs": [
    {
     "name": "stdout",
     "output_type": "stream",
     "text": [
      "train loss 0.155\n",
      "train loss 0.108\n",
      "train loss 0.137\n",
      "train loss 0.156\n",
      "train loss 0.169\n",
      "train loss 0.118\n",
      "train loss 0.112\n",
      "train loss 0.119\n",
      "train loss 0.123\n",
      "train loss 0.097\n",
      "train loss 0.084\n",
      "train loss 0.117\n",
      "train loss 0.108\n",
      "train loss 0.102\n",
      "train loss 0.123\n",
      "train loss 0.098\n",
      "train loss 0.095\n",
      "train loss 0.081\n",
      "train loss 0.097\n",
      "train loss 0.073\n",
      "train loss 0.081\n",
      "train loss 0.086\n",
      "train loss 0.087\n",
      "train loss 0.066\n",
      "train loss 0.074\n",
      "train loss 0.088\n",
      "train loss 0.055\n",
      "train loss 0.069\n",
      "train loss 0.148\n",
      "train loss 0.052\n"
     ]
    }
   ],
   "source": [
    "train(encoder, decoder, enc_optimizer, dec_optimizer, epochs = 300, teacher_forcing_ratio=0.0)"
   ]
  },
  {
   "cell_type": "code",
   "execution_count": 54,
   "metadata": {},
   "outputs": [
    {
     "name": "stdout",
     "output_type": "stream",
     "text": [
      "train loss 0.063\n",
      "train loss 0.083\n",
      "train loss 0.058\n",
      "train loss 0.063\n",
      "train loss 0.048\n",
      "train loss 0.065\n",
      "train loss 0.049\n",
      "train loss 0.052\n",
      "train loss 0.047\n",
      "train loss 0.045\n",
      "train loss 0.049\n",
      "train loss 0.055\n",
      "train loss 0.045\n",
      "train loss 0.042\n",
      "train loss 0.048\n",
      "train loss 0.052\n",
      "train loss 0.068\n",
      "train loss 0.034\n",
      "train loss 0.038\n",
      "train loss 0.036\n",
      "train loss 0.033\n",
      "train loss 0.034\n",
      "train loss 0.052\n",
      "train loss 0.038\n",
      "train loss 0.039\n",
      "train loss 0.037\n",
      "train loss 0.043\n",
      "train loss 0.031\n",
      "train loss 0.033\n",
      "train loss 0.039\n"
     ]
    }
   ],
   "source": [
    "train(encoder, decoder, enc_optimizer, dec_optimizer, epochs = 300, teacher_forcing_ratio=0.0)"
   ]
  },
  {
   "cell_type": "markdown",
   "metadata": {},
   "source": [
    "## Visualizing Attention\n",
    "\n",
    "A useful property of the attention mechanism is its highly interpretable\n",
    "outputs. Because it is used to weight specific encoder outputs of the\n",
    "input sequence, we can imagine looking where the network is focused most\n",
    "at each time step."
   ]
  },
  {
   "cell_type": "code",
   "execution_count": 55,
   "metadata": {},
   "outputs": [],
   "source": [
    "def showAttention(x, y_hat, attentions):\n",
    "    # Set up figure with colorbar\n",
    "    fig = plt.figure()\n",
    "    ax = fig.add_subplot(111)\n",
    "    cax = ax.matshow(attentions.numpy(), cmap='bone')\n",
    "    fig.colorbar(cax)\n",
    "\n",
    "    # Set up axes\n",
    "    ax.set_xticklabels([''] + x +\n",
    "                       ['<EOS>'], rotation=90)\n",
    "    ax.set_yticklabels([''] + y_hat + ['<EOS>'])\n",
    "\n",
    "    # Show label at every tick\n",
    "    ax.xaxis.set_major_locator(ticker.MultipleLocator(1))\n",
    "    ax.yaxis.set_major_locator(ticker.MultipleLocator(1))\n",
    "\n",
    "    plt.show()"
   ]
  },
  {
   "cell_type": "code",
   "execution_count": 56,
   "metadata": {},
   "outputs": [],
   "source": [
    "batch_size=5\n",
    "train_dl_2 = DataLoader(train_ds, batch_size=batch_size, shuffle=True)\n",
    "\n",
    "x, y = next(iter(train_dl_2)) \n",
    "x = x.long().cuda()\n",
    "y = y.long().cuda()"
   ]
  },
  {
   "cell_type": "code",
   "execution_count": 57,
   "metadata": {},
   "outputs": [],
   "source": [
    "decoder = decoder.eval()\n",
    "encoder = encoder.eval()\n",
    "batch_size = x.size(0)\n",
    "enc_outputs, enc_hidden = encoder(x)\n",
    "dec_input = SOS_token*torch.ones(batch_size, 1).long().cuda()  # SOS\n",
    "hidden = enc_hidden\n",
    "\n",
    "output, hidden, attention = decoder(dec_input, hidden, enc_outputs)"
   ]
  },
  {
   "cell_type": "code",
   "execution_count": 73,
   "metadata": {},
   "outputs": [
    {
     "data": {
      "text/plain": [
       "tensor([[  0,   0,   0,   0,   0,   0,   0,   1,   4,   5,  89,   8,  12, 317,\n",
       "         297, 128,   2],\n",
       "        [  0,   0,   0,   0,   0,   1,   4,  58,  99,  60, 100, 101, 102,  29,\n",
       "          75,  11,   2],\n",
       "        [  0,   1,   4,  58,  99, 119, 120, 121,  15, 122, 123, 124, 125, 126,\n",
       "         127, 128,   2],\n",
       "        [  0,   0,   0,   0,   0,   0,   0,   0,   0,   1,  51,  52,   7, 197,\n",
       "         198,  11,   2],\n",
       "        [  0,   0,   0,   0,   0,   0,   0,   0,   0,   0,   1,  12,  13, 166,\n",
       "         437,  11,   2],\n",
       "        [  0,   0,   0,   0,   0,   0,   0,   1,   4,   5, 177,  29, 155,  70,\n",
       "         178,  11,   2],\n",
       "        [  0,   0,   0,   0,   0,   1,  12,  92,  13,  60, 172, 173, 126,  64,\n",
       "          71,  11,   2],\n",
       "        [  0,   0,   0,   0,   0,   0,   0,   0,   1,   4,  58,   5,  60, 103,\n",
       "         104,  11,   2],\n",
       "        [  0,   0,   0,   0,   0,   0,   0,   0,   0,   0,   1,  96,  97,  98,\n",
       "         540,  11,   2],\n",
       "        [  0,   0,   0,   0,   0,   0,   1, 164,  19,  90, 117,   8,  64, 389,\n",
       "         413,  11,   2]], device='cuda:0')"
      ]
     },
     "execution_count": 73,
     "metadata": {},
     "output_type": "execute_result"
    }
   ],
   "source": [
    "x"
   ]
  },
  {
   "cell_type": "code",
   "execution_count": 72,
   "metadata": {},
   "outputs": [
    {
     "data": {
      "text/plain": [
       "tensor([[0.0000e+00, 0.0000e+00, 0.0000e+00, 0.0000e+00, 0.0000e+00, 0.0000e+00,\n",
       "         0.0000e+00, 0.0000e+00, 0.0000e+00, 0.0000e+00, 1.1612e-40, 8.4074e-40,\n",
       "         5.5043e-33, 1.9845e-19, 4.2462e-19, 9.4815e-10, 1.0000e+00],\n",
       "        [0.0000e+00, 0.0000e+00, 0.0000e+00, 0.0000e+00, 0.0000e+00, 0.0000e+00,\n",
       "         0.0000e+00, 0.0000e+00, 0.0000e+00, 0.0000e+00, 0.0000e+00, 5.4230e-43,\n",
       "         1.1695e-28, 2.5129e-20, 1.3815e-17, 1.5414e-09, 1.0000e+00],\n",
       "        [0.0000e+00, 0.0000e+00, 0.0000e+00, 0.0000e+00, 0.0000e+00, 0.0000e+00,\n",
       "         0.0000e+00, 0.0000e+00, 0.0000e+00, 0.0000e+00, 3.0746e-41, 2.1855e-32,\n",
       "         4.1302e-29, 9.6910e-17, 1.4413e-16, 5.3673e-09, 1.0000e+00],\n",
       "        [0.0000e+00, 0.0000e+00, 0.0000e+00, 0.0000e+00, 0.0000e+00, 0.0000e+00,\n",
       "         0.0000e+00, 0.0000e+00, 0.0000e+00, 0.0000e+00, 4.2668e-37, 1.8503e-33,\n",
       "         2.5714e-32, 1.7120e-27, 5.4031e-21, 1.0128e-09, 1.0000e+00],\n",
       "        [0.0000e+00, 0.0000e+00, 0.0000e+00, 0.0000e+00, 0.0000e+00, 0.0000e+00,\n",
       "         0.0000e+00, 0.0000e+00, 0.0000e+00, 1.4013e-45, 5.6454e-41, 7.9594e-37,\n",
       "         1.4258e-31, 4.4235e-23, 2.7230e-21, 1.0184e-10, 1.0000e+00]],\n",
       "       device='cuda:0', grad_fn=<SoftmaxBackward>)"
      ]
     },
     "execution_count": 72,
     "metadata": {},
     "output_type": "execute_result"
    }
   ],
   "source": [
    "attention"
   ]
  },
  {
   "cell_type": "markdown",
   "metadata": {},
   "source": [
    "## Evaluation\n",
    "\n",
    "Evaluation is mostly the same as training, but there are no targets so\n",
    "we simply feed the decoder's predictions back to itself for each step.\n",
    "Every time it predicts a word we add it to the output string, and if it\n",
    "predicts the EOS token we stop there. We also store the decoder's\n",
    "attention outputs for display later."
   ]
  },
  {
   "cell_type": "code",
   "execution_count": 60,
   "metadata": {},
   "outputs": [],
   "source": [
    "import matplotlib.pyplot as plt\n",
    "import matplotlib.ticker as ticker"
   ]
  },
  {
   "cell_type": "code",
   "execution_count": 61,
   "metadata": {},
   "outputs": [],
   "source": [
    "def decoding(x, y, encoder, decoder, max_length=MAX_LENGTH+2):\n",
    "    decoder = decoder.eval()\n",
    "    encoder = encoder.eval()\n",
    "    loss = 0 \n",
    "    with torch.no_grad():\n",
    "        batch_size = x.size(0)\n",
    "        enc_outputs, enc_hidden = encoder(x)\n",
    "        dec_input = SOS_token*torch.ones(batch_size, 1).long().cuda()  # SOS\n",
    "        hidden = enc_hidden\n",
    "\n",
    "        decoded_words = []\n",
    "        decoder_attentions = torch.zeros(batch_size, max_length, max_length)\n",
    "\n",
    "        for di in range(1, max_length):\n",
    "            output, hidden, attention = decoder(dec_input, hidden, enc_outputs)\n",
    "            decoder_attentions[:, di, :] = attention.detach()\n",
    "            pred = output.argmax(dim=1)\n",
    "            yi =  y[:, di]\n",
    "            if (yi>0).sum() > 0:\n",
    "                loss += F.cross_entropy(\n",
    "                    output, yi, ignore_index = 0, reduction=\"sum\")/(yi>0).sum()\n",
    "            decoded_words.append(pred.cpu().numpy())\n",
    "            dec_input = output.argmax(dim=1).unsqueeze(1).detach()\n",
    "\n",
    "        return loss/batch_size, np.transpose(decoded_words), decoder_attentions"
   ]
  },
  {
   "cell_type": "code",
   "execution_count": 74,
   "metadata": {},
   "outputs": [],
   "source": [
    "def print_results(x, y, encoder, decoder, attention=False, max_length=MAX_LENGTH+2):\n",
    "    loss, decoded_words, attentions = decoding(x, y, encoder, decoder)\n",
    "    for i in range(x.shape[0]):\n",
    "        xi = x[i].cpu().numpy()\n",
    "        yi = y[i].cpu().numpy()\n",
    "        y_hat = decoded_words[i]\n",
    "        x_sent = [input_lang.index2word[t] for t in xi if t > 3]\n",
    "        y_sent = [output_lang.index2word[t] for t in yi if t > 3]\n",
    "        y_hat_sent = [output_lang.index2word[t] for t in y_hat if t > 3]\n",
    "        print('>', ' '.join(x_sent))\n",
    "        print('=', ' '.join(y_sent))\n",
    "        print('<', ' '.join(y_hat_sent))\n",
    "        print('')\n",
    "        attns = attentions[i,:len(y_hat_sent)+1:,max_length-len(x_sent)-1:]\n",
    "        if attention:\n",
    "            showAttention(x_sent, y_hat_sent, attns)"
   ]
  },
  {
   "cell_type": "code",
   "execution_count": 79,
   "metadata": {},
   "outputs": [
    {
     "data": {
      "text/plain": [
       "tensor(0.1935, device='cuda:0')"
      ]
     },
     "execution_count": 79,
     "metadata": {},
     "output_type": "execute_result"
    }
   ],
   "source": [
    "batch_size=300\n",
    "valid_dl_2 = DataLoader(valid_ds, batch_size=batch_size, shuffle=True)\n",
    "\n",
    "x, y = next(iter(valid_dl_2)) \n",
    "x = x.long().cuda()\n",
    "y = y.long().cuda()\n",
    "\n",
    "loss, decoded_words, attentions = decoding(x, y, encoder, decoder)\n",
    "loss"
   ]
  },
  {
   "cell_type": "code",
   "execution_count": 82,
   "metadata": {},
   "outputs": [],
   "source": [
    "batch_size=10\n",
    "train_dl_2 = DataLoader(train_ds, batch_size=batch_size, shuffle=True)\n",
    "\n",
    "x, y = next(iter(train_dl_2)) \n",
    "x = x.long().cuda()\n",
    "y = y.long().cuda()"
   ]
  },
  {
   "cell_type": "code",
   "execution_count": 83,
   "metadata": {},
   "outputs": [
    {
     "name": "stdout",
     "output_type": "stream",
     "text": [
      "> vous etes creatives .\n",
      "= you re creative .\n",
      "< you re creative .\n",
      "\n",
      "> je m excuse pour mon mauvais francais . je suis encore debutant .\n",
      "= i m sorry for my terrible french . i m still a beginner .\n",
      "< i m sorry for my terrible french . i m still a beginner .\n",
      "\n",
      "> vous etes tres efficaces .\n",
      "= you re very efficient .\n",
      "< you re very efficient .\n",
      "\n",
      "> je vais y songer .\n",
      "= i m going to sleep on it .\n",
      "< i m going to sleep on it .\n",
      "\n",
      "> tu ne penses pas clairement .\n",
      "= you re not thinking clearly .\n",
      "< you re not thinking clearly .\n",
      "\n",
      "> il est assez mignon non ?\n",
      "= he s kind of cute isn t he ?\n",
      "< he s kind of cute isn t he ?\n",
      "\n",
      "> je vais arreter d essayer d etre amicale avec toi .\n",
      "= i m going to stop trying to be friendly with you .\n",
      "< i m going to stop trying to be friendly with you .\n",
      "\n",
      "> vous etes inoubliables .\n",
      "= you re unforgettable .\n",
      "< you re unforgettable .\n",
      "\n",
      "> je suis familier de cette partie de la ville .\n",
      "= i am familiar with this part of town .\n",
      "< i am familiar with this part of town .\n",
      "\n",
      "> nous sommes inutiles .\n",
      "= we re useless .\n",
      "< we re useless .\n",
      "\n"
     ]
    }
   ],
   "source": [
    "print_results(x, y, encoder, decoder)"
   ]
  },
  {
   "cell_type": "code",
   "execution_count": 84,
   "metadata": {},
   "outputs": [],
   "source": [
    "batch_size=10\n",
    "valid_dl_2 = DataLoader(valid_ds, batch_size=batch_size, shuffle=True)\n",
    "\n",
    "x, y = next(iter(valid_dl_2)) \n",
    "x = x.long().cuda()\n",
    "y = y.long().cuda()"
   ]
  },
  {
   "cell_type": "code",
   "execution_count": 85,
   "metadata": {},
   "outputs": [
    {
     "name": "stdout",
     "output_type": "stream",
     "text": [
      "> je ne suis pas votre ennemie .\n",
      "= i m not your enemy .\n",
      "< i am not your enemy .\n",
      "\n",
      "> tu es en train de prevoir quelque chose pas vrai ?\n",
      "= you re planning something aren t you ?\n",
      "< you re enjoying something aren t you ?\n",
      "\n",
      "> je ne vais pas bien du tout .\n",
      "= i am not well at all .\n",
      "< i m not at all all .\n",
      "\n",
      "> je suis desole je ne vous ai pas reconnu .\n",
      "= i m sorry i didn t recognize you .\n",
      "< i m sorry i didn t recognize you .\n",
      "\n",
      "> vous etes chanceuse .\n",
      "= you re fortunate .\n",
      "< you re fortunate .\n",
      "\n",
      "> je suis desole mon pere est sorti .\n",
      "= i m sorry my father is out .\n",
      "< i m sorry my father is out .\n",
      "\n",
      "> je ne suis pas actuellement arme .\n",
      "= i m now unarmed .\n",
      "< i m not in . .\n",
      "\n",
      "> je suis vegetarienne .\n",
      "= i m vegetarian .\n",
      "< i am a vegetarian .\n",
      "\n",
      "> j en ai fini avec mon travail .\n",
      "= i am through with my work .\n",
      "< i m through with my work with job .\n",
      "\n",
      "> c est toi la chef .\n",
      "= you re the leader .\n",
      "< you re the leader .\n",
      "\n"
     ]
    }
   ],
   "source": [
    "print_results(x, y, encoder, decoder)"
   ]
  },
  {
   "cell_type": "code",
   "execution_count": 86,
   "metadata": {},
   "outputs": [
    {
     "name": "stdout",
     "output_type": "stream",
     "text": [
      "> je ne suis pas votre ennemie .\n",
      "= i m not your enemy .\n",
      "< i am not your enemy .\n",
      "\n"
     ]
    },
    {
     "data": {
      "image/png": "[encoded data removed]",
      "text/plain": [
       "<Figure size 432x288 with 2 Axes>"
      ]
     },
     "metadata": {
      "needs_background": "light"
     },
     "output_type": "display_data"
    },
    {
     "name": "stdout",
     "output_type": "stream",
     "text": [
      "> tu es en train de prevoir quelque chose pas vrai ?\n",
      "= you re planning something aren t you ?\n",
      "< you re enjoying something aren t you ?\n",
      "\n"
     ]
    },
    {
     "data": {
      "image/png": "[encoded data removed]",
      "text/plain": [
       "<Figure size 432x288 with 2 Axes>"
      ]
     },
     "metadata": {
      "needs_background": "light"
     },
     "output_type": "display_data"
    },
    {
     "name": "stdout",
     "output_type": "stream",
     "text": [
      "> je ne vais pas bien du tout .\n",
      "= i am not well at all .\n",
      "< i m not at all all .\n",
      "\n"
     ]
    },
    {
     "data": {
      "image/png": "[encoded data removed]",
      "text/plain": [
       "<Figure size 432x288 with 2 Axes>"
      ]
     },
     "metadata": {
      "needs_background": "light"
     },
     "output_type": "display_data"
    },
    {
     "name": "stdout",
     "output_type": "stream",
     "text": [
      "> je suis desole je ne vous ai pas reconnu .\n",
      "= i m sorry i didn t recognize you .\n",
      "< i m sorry i didn t recognize you .\n",
      "\n"
     ]
    },
    {
     "data": {
      "image/png": "[encoded data removed]",
      "text/plain": [
       "<Figure size 432x288 with 2 Axes>"
      ]
     },
     "metadata": {
      "needs_background": "light"
     },
     "output_type": "display_data"
    },
    {
     "name": "stdout",
     "output_type": "stream",
     "text": [
      "> vous etes chanceuse .\n",
      "= you re fortunate .\n",
      "< you re fortunate .\n",
      "\n"
     ]
    },
    {
     "data": {
      "image/png": "[encoded data removed]",
      "text/plain": [
       "<Figure size 432x288 with 2 Axes>"
      ]
     },
     "metadata": {
      "needs_background": "light"
     },
     "output_type": "display_data"
    },
    {
     "name": "stdout",
     "output_type": "stream",
     "text": [
      "> je suis desole mon pere est sorti .\n",
      "= i m sorry my father is out .\n",
      "< i m sorry my father is out .\n",
      "\n"
     ]
    },
    {
     "data": {
      "image/png": "[encoded data removed]",
      "text/plain": [
       "<Figure size 432x288 with 2 Axes>"
      ]
     },
     "metadata": {
      "needs_background": "light"
     },
     "output_type": "display_data"
    },
    {
     "name": "stdout",
     "output_type": "stream",
     "text": [
      "> je ne suis pas actuellement arme .\n",
      "= i m now unarmed .\n",
      "< i m not in . .\n",
      "\n"
     ]
    },
    {
     "data": {
      "image/png": "[encoded data removed]",
      "text/plain": [
       "<Figure size 432x288 with 2 Axes>"
      ]
     },
     "metadata": {
      "needs_background": "light"
     },
     "output_type": "display_data"
    },
    {
     "name": "stdout",
     "output_type": "stream",
     "text": [
      "> je suis vegetarienne .\n",
      "= i m vegetarian .\n",
      "< i am a vegetarian .\n",
      "\n"
     ]
    },
    {
     "data": {
      "image/png": "[encoded data removed]",
      "text/plain": [
       "<Figure size 432x288 with 2 Axes>"
      ]
     },
     "metadata": {
      "needs_background": "light"
     },
     "output_type": "display_data"
    },
    {
     "name": "stdout",
     "output_type": "stream",
     "text": [
      "> j en ai fini avec mon travail .\n",
      "= i am through with my work .\n",
      "< i m through with my work with job .\n",
      "\n"
     ]
    },
    {
     "data": {
      "image/png": "[encoded data removed]",
      "text/plain": [
       "<Figure size 432x288 with 2 Axes>"
      ]
     },
     "metadata": {
      "needs_background": "light"
     },
     "output_type": "display_data"
    },
    {
     "name": "stdout",
     "output_type": "stream",
     "text": [
      "> c est toi la chef .\n",
      "= you re the leader .\n",
      "< you re the leader .\n",
      "\n"
     ]
    },
    {
     "data": {
      "image/png": "[encoded data removed]",
      "text/plain": [
       "<Figure size 432x288 with 2 Axes>"
      ]
     },
     "metadata": {
      "needs_background": "light"
     },
     "output_type": "display_data"
    }
   ],
   "source": [
    "print_results(x, y, encoder, decoder, attention=True)"
   ]
  },
  {
   "cell_type": "markdown",
   "metadata": {},
   "source": [
    "Exercises\n",
    "=========\n",
    "-  Replace the embeddings with pre-trained word embeddings. Here are word embeddings for various languages.\n",
    "\n",
    "https://fasttext.cc/docs/en/crawl-vectors.html \n",
    "\n"
   ]
  },
  {
   "cell_type": "markdown",
   "metadata": {},
   "source": [
    "# Credits\n",
    "The original notebook was written by Sean Robertson <https://github.com/spro/practical-pytorch>_"
   ]
  }
 ],
 "metadata": {
  "kernelspec": {
   "display_name": "Python 3",
   "language": "python",
   "name": "python3"
  },
  "language_info": {
   "codemirror_mode": {
    "name": "ipython",
    "version": 3
   },
   "file_extension": ".py",
   "mimetype": "text/x-python",
   "name": "python",
   "nbconvert_exporter": "python",
   "pygments_lexer": "ipython3",
   "version": "3.6.8"
  },
  "toc": {
   "nav_menu": {},
   "number_sections": true,
   "sideBar": true,
   "skip_h1_title": false,
   "toc_cell": false,
   "toc_position": {},
   "toc_section_display": "block",
   "toc_window_display": false
  }
 },
 "nbformat": 4,
 "nbformat_minor": 1
}
