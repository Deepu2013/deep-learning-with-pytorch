{
 "cells": [
  {
   "cell_type": "code",
   "execution_count": 1,
   "metadata": {},
   "outputs": [],
   "source": [
    "%matplotlib inline\n",
    "\n",
    "import numpy as np\n",
    "import pandas as pd\n",
    "\n",
    "import torch \n",
    "import torch.autograd as autograd \n",
    "import torch.nn as nn \n",
    "import torch.nn.functional as F\n",
    "import torch.optim as optim\n",
    "from torch.utils.data import Dataset, DataLoader\n",
    "\n",
    "from pathlib import Path"
   ]
  },
  {
   "cell_type": "code",
   "execution_count": 2,
   "metadata": {},
   "outputs": [],
   "source": [
    "PATH = Path(\"data\")"
   ]
  },
  {
   "cell_type": "code",
   "execution_count": 3,
   "metadata": {},
   "outputs": [
    {
     "data": {
      "text/plain": [
       "[PosixPath('data/plot.tok.gt9.5000'),\n",
       " PosixPath('data/subjdata.README.1.0'),\n",
       " PosixPath('data/quote.tok.gt9.5000'),\n",
       " PosixPath('data/train.csv')]"
      ]
     },
     "execution_count": 3,
     "metadata": {},
     "output_type": "execute_result"
    }
   ],
   "source": [
    "list(PATH.iterdir())"
   ]
  },
  {
   "cell_type": "markdown",
   "metadata": {},
   "source": [
    "# Load data in\n",
    "Download data from here\n",
    "https://www.kaggle.com/c/nyc-taxi-trip-duration/data \n",
    "or from canvas.\n",
    "Change your path appropriately. "
   ]
  },
  {
   "cell_type": "code",
   "execution_count": 4,
   "metadata": {},
   "outputs": [
    {
     "name": "stdout",
     "output_type": "stream",
     "text": [
      "id,vendor_id,pickup_datetime,dropoff_datetime,passenger_count,pickup_longitude,pickup_latitude,dropoff_longitude,dropoff_latitude,store_and_fwd_flag,trip_duration\r\n",
      "id2875421,2,2016-03-14 17:24:55,2016-03-14 17:32:30,1,-73.982154846191406,40.767936706542969,-73.964630126953125,40.765602111816406,N,455\r\n",
      "id2377394,1,2016-06-12 00:43:35,2016-06-12 00:54:38,1,-73.980415344238281,40.738563537597656,-73.999481201171875,40.731151580810547,N,663\r\n",
      "id3858529,2,2016-01-19 11:35:24,2016-01-19 12:10:48,1,-73.979026794433594,40.763938903808594,-74.005332946777344,40.710086822509766,N,2124\r\n",
      "id3504673,2,2016-04-06 19:32:31,2016-04-06 19:39:40,1,-74.010040283203125,40.719970703125,-74.01226806640625,40.706718444824219,N,429\r\n",
      "id2181028,2,2016-03-26 13:30:55,2016-03-26 13:38:10,1,-73.973052978515625,40.793209075927734,-73.972923278808594,40.782520294189453,N,435\r\n",
      "id0801584,2,2016-01-30 22:01:40,2016-01-30 22:09:03,6,-73.982856750488281,40.742195129394531,-73.992080688476562,40.749183654785156,N,443\r\n",
      "id1813257,1,2016-06-17 22:34:59,2016-06-17 22:40:40,4,-73.969017028808594,40.757839202880859,-73.957405090332031,40.765895843505859,N,341\r\n",
      "id1324603,2,2016-05-21 07:54:58,2016-05-21 08:20:49,1,-73.969276428222656,40.797779083251953,-73.922470092773438,40.76055908203125,N,1551\r\n",
      "id1301050,1,2016-05-27 23:12:23,2016-05-27 23:16:38,1,-73.999481201171875,40.738399505615234,-73.985786437988281,40.732814788818359,N,255\r\n"
     ]
    }
   ],
   "source": [
    "path = PATH/\"train.csv\"\n",
    "!head $path"
   ]
  },
  {
   "cell_type": "markdown",
   "metadata": {},
   "source": [
    "Data Description\n",
    "* id - a unique identifier for each trip\n",
    "* vendor_id - a code indicating the provider associated with the trip record\n",
    "* pickup_datetime - date and time when the meter was engaged\n",
    "* dropoff_datetime - date and time when the meter was disengaged\n",
    "* passenger_count - the number of passengers in the vehicle (driver entered value)\n",
    "* pickup_longitude - the longitude where the meter was engaged\n",
    "* pickup_latitude - the latitude where the meter was engaged\n",
    "* dropoff_longitude - the longitude where the meter was disengaged\n",
    "* dropoff_latitude - the latitude where the meter was disengaged\n",
    "* store_and_fwd_flag - This flag indicates whether the trip record was held in vehicle memory before sending to the vendor because the vehicle did not have a connection to the server (Y=store and forward; N=not a store and forward trip)\n",
    "* trip_duration - duration of the trip in seconds"
   ]
  },
  {
   "cell_type": "code",
   "execution_count": 5,
   "metadata": {},
   "outputs": [
    {
     "data": {
      "text/plain": [
       "(1458644, 11)"
      ]
     },
     "execution_count": 5,
     "metadata": {},
     "output_type": "execute_result"
    }
   ],
   "source": [
    "data = pd.read_csv(PATH/\"train.csv\", sep=',')\n",
    "data.shape"
   ]
  },
  {
   "cell_type": "code",
   "execution_count": 6,
   "metadata": {},
   "outputs": [
    {
     "data": {
      "text/plain": [
       "(291729, 11)"
      ]
     },
     "execution_count": 6,
     "metadata": {},
     "output_type": "execute_result"
    }
   ],
   "source": [
    "# taking a sample\n",
    "data = data.sample(frac=0.2, replace=False, random_state=1)\n",
    "data.shape"
   ]
  },
  {
   "cell_type": "code",
   "execution_count": 7,
   "metadata": {},
   "outputs": [
    {
     "data": {
      "text/html": [
       "<div>\n",
       "<style scoped>\n",
       "    .dataframe tbody tr th:only-of-type {\n",
       "        vertical-align: middle;\n",
       "    }\n",
       "\n",
       "    .dataframe tbody tr th {\n",
       "        vertical-align: top;\n",
       "    }\n",
       "\n",
       "    .dataframe thead th {\n",
       "        text-align: right;\n",
       "    }\n",
       "</style>\n",
       "<table border=\"1\" class=\"dataframe\">\n",
       "  <thead>\n",
       "    <tr style=\"text-align: right;\">\n",
       "      <th></th>\n",
       "      <th>id</th>\n",
       "      <th>vendor_id</th>\n",
       "      <th>pickup_datetime</th>\n",
       "      <th>dropoff_datetime</th>\n",
       "      <th>passenger_count</th>\n",
       "      <th>pickup_longitude</th>\n",
       "      <th>pickup_latitude</th>\n",
       "      <th>dropoff_longitude</th>\n",
       "      <th>dropoff_latitude</th>\n",
       "      <th>store_and_fwd_flag</th>\n",
       "      <th>trip_duration</th>\n",
       "    </tr>\n",
       "  </thead>\n",
       "  <tbody>\n",
       "    <tr>\n",
       "      <th>1457636</th>\n",
       "      <td>id0880738</td>\n",
       "      <td>2</td>\n",
       "      <td>2016-02-27 20:13:05</td>\n",
       "      <td>2016-02-27 20:24:37</td>\n",
       "      <td>1</td>\n",
       "      <td>-73.981728</td>\n",
       "      <td>40.749500</td>\n",
       "      <td>-73.945915</td>\n",
       "      <td>40.792061</td>\n",
       "      <td>N</td>\n",
       "      <td>692</td>\n",
       "    </tr>\n",
       "    <tr>\n",
       "      <th>615369</th>\n",
       "      <td>id2002545</td>\n",
       "      <td>2</td>\n",
       "      <td>2016-06-04 09:54:05</td>\n",
       "      <td>2016-06-04 10:10:35</td>\n",
       "      <td>1</td>\n",
       "      <td>-73.979088</td>\n",
       "      <td>40.771606</td>\n",
       "      <td>-73.946518</td>\n",
       "      <td>40.822655</td>\n",
       "      <td>N</td>\n",
       "      <td>990</td>\n",
       "    </tr>\n",
       "    <tr>\n",
       "      <th>491096</th>\n",
       "      <td>id0289724</td>\n",
       "      <td>2</td>\n",
       "      <td>2016-05-06 17:40:05</td>\n",
       "      <td>2016-05-06 17:50:52</td>\n",
       "      <td>1</td>\n",
       "      <td>-73.989700</td>\n",
       "      <td>40.738651</td>\n",
       "      <td>-73.997772</td>\n",
       "      <td>40.754051</td>\n",
       "      <td>N</td>\n",
       "      <td>647</td>\n",
       "    </tr>\n",
       "    <tr>\n",
       "      <th>82632</th>\n",
       "      <td>id3767649</td>\n",
       "      <td>2</td>\n",
       "      <td>2016-05-30 19:20:26</td>\n",
       "      <td>2016-05-30 19:25:04</td>\n",
       "      <td>1</td>\n",
       "      <td>-73.988441</td>\n",
       "      <td>40.723267</td>\n",
       "      <td>-73.995880</td>\n",
       "      <td>40.716717</td>\n",
       "      <td>N</td>\n",
       "      <td>278</td>\n",
       "    </tr>\n",
       "    <tr>\n",
       "      <th>71403</th>\n",
       "      <td>id2530846</td>\n",
       "      <td>2</td>\n",
       "      <td>2016-01-19 14:19:22</td>\n",
       "      <td>2016-01-19 14:34:03</td>\n",
       "      <td>2</td>\n",
       "      <td>-73.985733</td>\n",
       "      <td>40.752598</td>\n",
       "      <td>-73.969231</td>\n",
       "      <td>40.755997</td>\n",
       "      <td>N</td>\n",
       "      <td>881</td>\n",
       "    </tr>\n",
       "  </tbody>\n",
       "</table>\n",
       "</div>"
      ],
      "text/plain": [
       "                id  vendor_id      pickup_datetime     dropoff_datetime  \\\n",
       "1457636  id0880738          2  2016-02-27 20:13:05  2016-02-27 20:24:37   \n",
       "615369   id2002545          2  2016-06-04 09:54:05  2016-06-04 10:10:35   \n",
       "491096   id0289724          2  2016-05-06 17:40:05  2016-05-06 17:50:52   \n",
       "82632    id3767649          2  2016-05-30 19:20:26  2016-05-30 19:25:04   \n",
       "71403    id2530846          2  2016-01-19 14:19:22  2016-01-19 14:34:03   \n",
       "\n",
       "         passenger_count  pickup_longitude  pickup_latitude  \\\n",
       "1457636                1        -73.981728        40.749500   \n",
       "615369                 1        -73.979088        40.771606   \n",
       "491096                 1        -73.989700        40.738651   \n",
       "82632                  1        -73.988441        40.723267   \n",
       "71403                  2        -73.985733        40.752598   \n",
       "\n",
       "         dropoff_longitude  dropoff_latitude store_and_fwd_flag  trip_duration  \n",
       "1457636         -73.945915         40.792061                  N            692  \n",
       "615369          -73.946518         40.822655                  N            990  \n",
       "491096          -73.997772         40.754051                  N            647  \n",
       "82632           -73.995880         40.716717                  N            278  \n",
       "71403           -73.969231         40.755997                  N            881  "
      ]
     },
     "execution_count": 7,
     "metadata": {},
     "output_type": "execute_result"
    }
   ],
   "source": [
    "data.head()"
   ]
  },
  {
   "cell_type": "markdown",
   "metadata": {},
   "source": [
    "## Transforming Y"
   ]
  },
  {
   "cell_type": "code",
   "execution_count": 8,
   "metadata": {},
   "outputs": [],
   "source": [
    "# clipping\n",
    "data.loc[data[\"trip_duration\"] > 60*60, \"trip_duration\"] = 60*60  \n",
    "data.loc[data[\"trip_duration\"] < 60, \"trip_duration\"] = 60\n",
    "data['log_trip_duration'] = np.log(data['trip_duration'].values)"
   ]
  },
  {
   "cell_type": "code",
   "execution_count": 9,
   "metadata": {},
   "outputs": [],
   "source": [
    "def get_time_features(df):\n",
    "    df['pickup_datetime'] = pd.to_datetime(df.pickup_datetime)\n",
    "    df['dropoff_datetime'] = pd.to_datetime(df.dropoff_datetime)\n",
    "    df['pickup_weekday'] = df['pickup_datetime'].dt.weekday\n",
    "    df['pickup_hour'] = df['pickup_datetime'].dt.hour\n",
    "    df['dropoff_weekday'] = df['dropoff_datetime'].dt.weekday\n",
    "    df['dropoff_hour'] = df['dropoff_datetime'].dt.hour\n",
    "    return df"
   ]
  },
  {
   "cell_type": "code",
   "execution_count": 10,
   "metadata": {},
   "outputs": [],
   "source": [
    "data = get_time_features(data)"
   ]
  },
  {
   "cell_type": "code",
   "execution_count": 11,
   "metadata": {},
   "outputs": [
    {
     "data": {
      "text/html": [
       "<div>\n",
       "<style scoped>\n",
       "    .dataframe tbody tr th:only-of-type {\n",
       "        vertical-align: middle;\n",
       "    }\n",
       "\n",
       "    .dataframe tbody tr th {\n",
       "        vertical-align: top;\n",
       "    }\n",
       "\n",
       "    .dataframe thead th {\n",
       "        text-align: right;\n",
       "    }\n",
       "</style>\n",
       "<table border=\"1\" class=\"dataframe\">\n",
       "  <thead>\n",
       "    <tr style=\"text-align: right;\">\n",
       "      <th></th>\n",
       "      <th>id</th>\n",
       "      <th>vendor_id</th>\n",
       "      <th>pickup_datetime</th>\n",
       "      <th>dropoff_datetime</th>\n",
       "      <th>passenger_count</th>\n",
       "      <th>pickup_longitude</th>\n",
       "      <th>pickup_latitude</th>\n",
       "      <th>dropoff_longitude</th>\n",
       "      <th>dropoff_latitude</th>\n",
       "      <th>store_and_fwd_flag</th>\n",
       "      <th>trip_duration</th>\n",
       "      <th>log_trip_duration</th>\n",
       "      <th>pickup_weekday</th>\n",
       "      <th>pickup_hour</th>\n",
       "      <th>dropoff_weekday</th>\n",
       "      <th>dropoff_hour</th>\n",
       "    </tr>\n",
       "  </thead>\n",
       "  <tbody>\n",
       "    <tr>\n",
       "      <th>1457636</th>\n",
       "      <td>id0880738</td>\n",
       "      <td>2</td>\n",
       "      <td>2016-02-27 20:13:05</td>\n",
       "      <td>2016-02-27 20:24:37</td>\n",
       "      <td>1</td>\n",
       "      <td>-73.981728</td>\n",
       "      <td>40.749500</td>\n",
       "      <td>-73.945915</td>\n",
       "      <td>40.792061</td>\n",
       "      <td>N</td>\n",
       "      <td>692</td>\n",
       "      <td>6.539586</td>\n",
       "      <td>5</td>\n",
       "      <td>20</td>\n",
       "      <td>5</td>\n",
       "      <td>20</td>\n",
       "    </tr>\n",
       "    <tr>\n",
       "      <th>615369</th>\n",
       "      <td>id2002545</td>\n",
       "      <td>2</td>\n",
       "      <td>2016-06-04 09:54:05</td>\n",
       "      <td>2016-06-04 10:10:35</td>\n",
       "      <td>1</td>\n",
       "      <td>-73.979088</td>\n",
       "      <td>40.771606</td>\n",
       "      <td>-73.946518</td>\n",
       "      <td>40.822655</td>\n",
       "      <td>N</td>\n",
       "      <td>990</td>\n",
       "      <td>6.897705</td>\n",
       "      <td>5</td>\n",
       "      <td>9</td>\n",
       "      <td>5</td>\n",
       "      <td>10</td>\n",
       "    </tr>\n",
       "    <tr>\n",
       "      <th>491096</th>\n",
       "      <td>id0289724</td>\n",
       "      <td>2</td>\n",
       "      <td>2016-05-06 17:40:05</td>\n",
       "      <td>2016-05-06 17:50:52</td>\n",
       "      <td>1</td>\n",
       "      <td>-73.989700</td>\n",
       "      <td>40.738651</td>\n",
       "      <td>-73.997772</td>\n",
       "      <td>40.754051</td>\n",
       "      <td>N</td>\n",
       "      <td>647</td>\n",
       "      <td>6.472346</td>\n",
       "      <td>4</td>\n",
       "      <td>17</td>\n",
       "      <td>4</td>\n",
       "      <td>17</td>\n",
       "    </tr>\n",
       "    <tr>\n",
       "      <th>82632</th>\n",
       "      <td>id3767649</td>\n",
       "      <td>2</td>\n",
       "      <td>2016-05-30 19:20:26</td>\n",
       "      <td>2016-05-30 19:25:04</td>\n",
       "      <td>1</td>\n",
       "      <td>-73.988441</td>\n",
       "      <td>40.723267</td>\n",
       "      <td>-73.995880</td>\n",
       "      <td>40.716717</td>\n",
       "      <td>N</td>\n",
       "      <td>278</td>\n",
       "      <td>5.627621</td>\n",
       "      <td>0</td>\n",
       "      <td>19</td>\n",
       "      <td>0</td>\n",
       "      <td>19</td>\n",
       "    </tr>\n",
       "    <tr>\n",
       "      <th>71403</th>\n",
       "      <td>id2530846</td>\n",
       "      <td>2</td>\n",
       "      <td>2016-01-19 14:19:22</td>\n",
       "      <td>2016-01-19 14:34:03</td>\n",
       "      <td>2</td>\n",
       "      <td>-73.985733</td>\n",
       "      <td>40.752598</td>\n",
       "      <td>-73.969231</td>\n",
       "      <td>40.755997</td>\n",
       "      <td>N</td>\n",
       "      <td>881</td>\n",
       "      <td>6.781058</td>\n",
       "      <td>1</td>\n",
       "      <td>14</td>\n",
       "      <td>1</td>\n",
       "      <td>14</td>\n",
       "    </tr>\n",
       "  </tbody>\n",
       "</table>\n",
       "</div>"
      ],
      "text/plain": [
       "                id  vendor_id     pickup_datetime    dropoff_datetime  \\\n",
       "1457636  id0880738          2 2016-02-27 20:13:05 2016-02-27 20:24:37   \n",
       "615369   id2002545          2 2016-06-04 09:54:05 2016-06-04 10:10:35   \n",
       "491096   id0289724          2 2016-05-06 17:40:05 2016-05-06 17:50:52   \n",
       "82632    id3767649          2 2016-05-30 19:20:26 2016-05-30 19:25:04   \n",
       "71403    id2530846          2 2016-01-19 14:19:22 2016-01-19 14:34:03   \n",
       "\n",
       "         passenger_count  pickup_longitude  pickup_latitude  \\\n",
       "1457636                1        -73.981728        40.749500   \n",
       "615369                 1        -73.979088        40.771606   \n",
       "491096                 1        -73.989700        40.738651   \n",
       "82632                  1        -73.988441        40.723267   \n",
       "71403                  2        -73.985733        40.752598   \n",
       "\n",
       "         dropoff_longitude  dropoff_latitude store_and_fwd_flag  \\\n",
       "1457636         -73.945915         40.792061                  N   \n",
       "615369          -73.946518         40.822655                  N   \n",
       "491096          -73.997772         40.754051                  N   \n",
       "82632           -73.995880         40.716717                  N   \n",
       "71403           -73.969231         40.755997                  N   \n",
       "\n",
       "         trip_duration  log_trip_duration  pickup_weekday  pickup_hour  \\\n",
       "1457636            692           6.539586               5           20   \n",
       "615369             990           6.897705               5            9   \n",
       "491096             647           6.472346               4           17   \n",
       "82632              278           5.627621               0           19   \n",
       "71403              881           6.781058               1           14   \n",
       "\n",
       "         dropoff_weekday  dropoff_hour  \n",
       "1457636                5            20  \n",
       "615369                 5            10  \n",
       "491096                 4            17  \n",
       "82632                  0            19  \n",
       "71403                  1            14  "
      ]
     },
     "execution_count": 11,
     "metadata": {},
     "output_type": "execute_result"
    }
   ],
   "source": [
    "data.head()"
   ]
  },
  {
   "cell_type": "code",
   "execution_count": 12,
   "metadata": {},
   "outputs": [],
   "source": [
    "data = data[['pickup_longitude', 'pickup_latitude', 'dropoff_longitude', 'dropoff_latitude', 'log_trip_duration',\n",
    "        'pickup_weekday', 'pickup_hour', 'dropoff_weekday', 'dropoff_hour']]"
   ]
  },
  {
   "cell_type": "markdown",
   "metadata": {},
   "source": [
    "# Train, validation split"
   ]
  },
  {
   "cell_type": "code",
   "execution_count": 13,
   "metadata": {},
   "outputs": [],
   "source": [
    "from sklearn.model_selection import train_test_split"
   ]
  },
  {
   "cell_type": "code",
   "execution_count": 14,
   "metadata": {},
   "outputs": [],
   "source": [
    "train_data, val_data = train_test_split(data, test_size=0.2, random_state=23)"
   ]
  },
  {
   "cell_type": "code",
   "execution_count": 15,
   "metadata": {},
   "outputs": [
    {
     "name": "stdout",
     "output_type": "stream",
     "text": [
      "(233383, 9) (58346, 9)\n"
     ]
    }
   ],
   "source": [
    "print(train_data.shape, val_data.shape)"
   ]
  },
  {
   "cell_type": "code",
   "execution_count": 16,
   "metadata": {},
   "outputs": [
    {
     "data": {
      "text/html": [
       "<div>\n",
       "<style scoped>\n",
       "    .dataframe tbody tr th:only-of-type {\n",
       "        vertical-align: middle;\n",
       "    }\n",
       "\n",
       "    .dataframe tbody tr th {\n",
       "        vertical-align: top;\n",
       "    }\n",
       "\n",
       "    .dataframe thead th {\n",
       "        text-align: right;\n",
       "    }\n",
       "</style>\n",
       "<table border=\"1\" class=\"dataframe\">\n",
       "  <thead>\n",
       "    <tr style=\"text-align: right;\">\n",
       "      <th></th>\n",
       "      <th>pickup_longitude</th>\n",
       "      <th>pickup_latitude</th>\n",
       "      <th>dropoff_longitude</th>\n",
       "      <th>dropoff_latitude</th>\n",
       "      <th>log_trip_duration</th>\n",
       "      <th>pickup_weekday</th>\n",
       "      <th>pickup_hour</th>\n",
       "      <th>dropoff_weekday</th>\n",
       "      <th>dropoff_hour</th>\n",
       "    </tr>\n",
       "  </thead>\n",
       "  <tbody>\n",
       "    <tr>\n",
       "      <th>1027287</th>\n",
       "      <td>-73.984573</td>\n",
       "      <td>40.739681</td>\n",
       "      <td>-73.972954</td>\n",
       "      <td>40.736752</td>\n",
       "      <td>6.200509</td>\n",
       "      <td>5</td>\n",
       "      <td>20</td>\n",
       "      <td>5</td>\n",
       "      <td>20</td>\n",
       "    </tr>\n",
       "    <tr>\n",
       "      <th>1076151</th>\n",
       "      <td>-73.963165</td>\n",
       "      <td>40.757710</td>\n",
       "      <td>-73.956093</td>\n",
       "      <td>40.767696</td>\n",
       "      <td>6.436150</td>\n",
       "      <td>3</td>\n",
       "      <td>14</td>\n",
       "      <td>3</td>\n",
       "      <td>15</td>\n",
       "    </tr>\n",
       "    <tr>\n",
       "      <th>964948</th>\n",
       "      <td>-73.782089</td>\n",
       "      <td>40.644524</td>\n",
       "      <td>-73.985870</td>\n",
       "      <td>40.759975</td>\n",
       "      <td>8.188689</td>\n",
       "      <td>3</td>\n",
       "      <td>15</td>\n",
       "      <td>3</td>\n",
       "      <td>16</td>\n",
       "    </tr>\n",
       "    <tr>\n",
       "      <th>1326065</th>\n",
       "      <td>-73.992416</td>\n",
       "      <td>40.753059</td>\n",
       "      <td>-73.995659</td>\n",
       "      <td>40.764355</td>\n",
       "      <td>6.095825</td>\n",
       "      <td>2</td>\n",
       "      <td>19</td>\n",
       "      <td>2</td>\n",
       "      <td>19</td>\n",
       "    </tr>\n",
       "    <tr>\n",
       "      <th>1345325</th>\n",
       "      <td>-73.955009</td>\n",
       "      <td>40.786049</td>\n",
       "      <td>-73.982101</td>\n",
       "      <td>40.743950</td>\n",
       "      <td>6.958448</td>\n",
       "      <td>6</td>\n",
       "      <td>13</td>\n",
       "      <td>6</td>\n",
       "      <td>14</td>\n",
       "    </tr>\n",
       "  </tbody>\n",
       "</table>\n",
       "</div>"
      ],
      "text/plain": [
       "         pickup_longitude  pickup_latitude  dropoff_longitude  \\\n",
       "1027287        -73.984573        40.739681         -73.972954   \n",
       "1076151        -73.963165        40.757710         -73.956093   \n",
       "964948         -73.782089        40.644524         -73.985870   \n",
       "1326065        -73.992416        40.753059         -73.995659   \n",
       "1345325        -73.955009        40.786049         -73.982101   \n",
       "\n",
       "         dropoff_latitude  log_trip_duration  pickup_weekday  pickup_hour  \\\n",
       "1027287         40.736752           6.200509               5           20   \n",
       "1076151         40.767696           6.436150               3           14   \n",
       "964948          40.759975           8.188689               3           15   \n",
       "1326065         40.764355           6.095825               2           19   \n",
       "1345325         40.743950           6.958448               6           13   \n",
       "\n",
       "         dropoff_weekday  dropoff_hour  \n",
       "1027287                5            20  \n",
       "1076151                3            15  \n",
       "964948                 3            16  \n",
       "1326065                2            19  \n",
       "1345325                6            14  "
      ]
     },
     "execution_count": 16,
     "metadata": {},
     "output_type": "execute_result"
    }
   ],
   "source": [
    "val_data.head()"
   ]
  },
  {
   "cell_type": "code",
   "execution_count": 17,
   "metadata": {},
   "outputs": [],
   "source": [
    "cols = ['pickup_longitude', 'pickup_latitude', 'dropoff_longitude', 'dropoff_latitude', 'log_trip_duration',\n",
    "        'pickup_weekday', 'pickup_hour', 'dropoff_weekday', 'dropoff_hour']"
   ]
  },
  {
   "cell_type": "code",
   "execution_count": 18,
   "metadata": {},
   "outputs": [
    {
     "data": {
      "text/plain": [
       "array([22, 19, 20, 14, 10, 15, 23, 21,  0, 11,  8,  6, 18, 12, 16, 13,  7,\n",
       "       17,  2,  1,  4,  9,  5,  3])"
      ]
     },
     "execution_count": 18,
     "metadata": {},
     "output_type": "execute_result"
    }
   ],
   "source": [
    "train_data.pickup_hour.unique()"
   ]
  },
  {
   "cell_type": "markdown",
   "metadata": {},
   "source": [
    "## Dataset"
   ]
  },
  {
   "cell_type": "code",
   "execution_count": 19,
   "metadata": {},
   "outputs": [],
   "source": [
    "# standarize star rating\n",
    "from sklearn.preprocessing import StandardScaler\n",
    "scaler = StandardScaler()"
   ]
  },
  {
   "cell_type": "code",
   "execution_count": 20,
   "metadata": {},
   "outputs": [],
   "source": [
    "train_data_cont = train_data[['pickup_longitude', 'pickup_latitude', 'dropoff_longitude', 'dropoff_latitude']]\n",
    "train_data_cat = train_data[['pickup_weekday', 'pickup_hour', 'dropoff_weekday', 'dropoff_hour']]\n",
    "train_data_y = train_data[['log_trip_duration']]"
   ]
  },
  {
   "cell_type": "code",
   "execution_count": 21,
   "metadata": {},
   "outputs": [],
   "source": [
    "val_data_cont = val_data[['pickup_longitude', 'pickup_latitude', 'dropoff_longitude', 'dropoff_latitude']]\n",
    "val_data_cat = val_data[['pickup_weekday', 'pickup_hour', 'dropoff_weekday', 'dropoff_hour']]\n",
    "val_data_y = val_data[['log_trip_duration']]"
   ]
  },
  {
   "cell_type": "code",
   "execution_count": 22,
   "metadata": {},
   "outputs": [
    {
     "data": {
      "text/plain": [
       "StandardScaler(copy=True, with_mean=True, with_std=True)"
      ]
     },
     "execution_count": 22,
     "metadata": {},
     "output_type": "execute_result"
    }
   ],
   "source": [
    "scaler.fit(train_data_cont.values)"
   ]
  },
  {
   "cell_type": "code",
   "execution_count": 23,
   "metadata": {},
   "outputs": [],
   "source": [
    "class TaxiDataset(Dataset):\n",
    "    def __init__(self, df_cont, df_cat, y, scaler):\n",
    "        self.df_cat = df_cat.copy()\n",
    "        self.df_cont = df_cont.copy()\n",
    "        self.df_cont = scaler.transform(self.df_cont.values)\n",
    "        self.y = y['log_trip_duration'].values\n",
    "        \n",
    "    def __len__(self):\n",
    "        return len(self.y)\n",
    "    \n",
    "    def __getitem__(self, idx):\n",
    "        return self.df_cat.iloc[idx].values, self.df_cont[idx], self.y[idx]"
   ]
  },
  {
   "cell_type": "code",
   "execution_count": 24,
   "metadata": {},
   "outputs": [],
   "source": [
    "train_ds = TaxiDataset(train_data_cont, train_data_cat, train_data_y, scaler)\n",
    "val_ds = TaxiDataset(val_data_cont, val_data_cat, val_data_y, scaler)"
   ]
  },
  {
   "cell_type": "code",
   "execution_count": 25,
   "metadata": {},
   "outputs": [
    {
     "data": {
      "text/plain": [
       "array([ 1, 22,  1, 22])"
      ]
     },
     "execution_count": 25,
     "metadata": {},
     "output_type": "execute_result"
    }
   ],
   "source": [
    "train_data_cat.iloc[0].values"
   ]
  },
  {
   "cell_type": "code",
   "execution_count": 26,
   "metadata": {},
   "outputs": [
    {
     "data": {
      "text/plain": [
       "(array([ 1, 22,  1, 22]),\n",
       " array([-0.34412672,  0.22993443, -0.22406964, -0.13888053]),\n",
       " 6.411818267709897)"
      ]
     },
     "execution_count": 26,
     "metadata": {},
     "output_type": "execute_result"
    }
   ],
   "source": [
    "train_ds[0]"
   ]
  },
  {
   "cell_type": "code",
   "execution_count": 27,
   "metadata": {},
   "outputs": [
    {
     "data": {
      "text/plain": [
       "(array([ 5, 20,  5, 20]),\n",
       " array([-0.24136607, -0.32657616,  0.00527577, -0.38610695]),\n",
       " 6.20050917404269)"
      ]
     },
     "execution_count": 27,
     "metadata": {},
     "output_type": "execute_result"
    }
   ],
   "source": [
    "val_ds[0]"
   ]
  },
  {
   "cell_type": "markdown",
   "metadata": {},
   "source": [
    "## Model\n",
    "Write a simple two or three layer feed-forward model in which categorical variables are represented by embeddings."
   ]
  },
  {
   "cell_type": "markdown",
   "metadata": {},
   "source": [
    "## Training\n",
    "Train your model. Use mean square error loss (mse) for training. Use mse loss and r2 metric for validation. <br>\n",
    "Hint: A  `batch_size=50000` and `lr=0.01` worked for me."
   ]
  },
  {
   "cell_type": "code",
   "execution_count": 28,
   "metadata": {},
   "outputs": [],
   "source": [
    "from sklearn import metrics"
   ]
  },
  {
   "cell_type": "code",
   "execution_count": null,
   "metadata": {},
   "outputs": [],
   "source": []
  }
 ],
 "metadata": {
  "kernelspec": {
   "display_name": "Python 3",
   "language": "python",
   "name": "python3"
  },
  "language_info": {
   "codemirror_mode": {
    "name": "ipython",
    "version": 3
   },
   "file_extension": ".py",
   "mimetype": "text/x-python",
   "name": "python",
   "nbconvert_exporter": "python",
   "pygments_lexer": "ipython3",
   "version": "3.6.6"
  },
  "toc": {
   "nav_menu": {},
   "number_sections": true,
   "sideBar": true,
   "skip_h1_title": false,
   "toc_cell": false,
   "toc_position": {},
   "toc_section_display": true,
   "toc_window_display": false
  }
 },
 "nbformat": 4,
 "nbformat_minor": 2
}
